{
 "cells": [
  {
   "cell_type": "code",
   "execution_count": 1,
   "metadata": {
    "collapsed": true
   },
   "outputs": [],
   "source": [
    "# for Python 2: use print only as a function\n",
    "from __future__ import print_function\n",
    "from sklearn.feature_extraction.text import CountVectorizer\n",
    "from sklearn.cross_validation import train_test_split\n",
    "from sklearn import metrics\n",
    "from sklearn.naive_bayes import MultinomialNB\n",
    "import numpy as np\n",
    "from sklearn.neighbors import KNeighborsClassifier"
   ]
  },
  {
   "cell_type": "code",
   "execution_count": 2,
   "metadata": {
    "collapsed": false
   },
   "outputs": [
    {
     "data": {
      "text/plain": [
       "(27320, 14)"
      ]
     },
     "execution_count": 2,
     "metadata": {},
     "output_type": "execute_result"
    }
   ],
   "source": [
    "import pandas as pd\n",
    "df = pd.read_csv('reviews.csv')\n",
    "df.shape"
   ]
  },
  {
   "cell_type": "code",
   "execution_count": 3,
   "metadata": {
    "collapsed": false
   },
   "outputs": [
    {
     "data": {
      "text/html": [
       "<div>\n",
       "<table border=\"1\" class=\"dataframe\">\n",
       "  <thead>\n",
       "    <tr style=\"text-align: right;\">\n",
       "      <th></th>\n",
       "      <th>raw_review</th>\n",
       "      <th>id</th>\n",
       "      <th>review</th>\n",
       "      <th>real_category</th>\n",
       "      <th>lda_catogories</th>\n",
       "      <th>lda_catogories_12</th>\n",
       "      <th>lda_catogories_4</th>\n",
       "      <th>lda_catogories_5</th>\n",
       "      <th>lda_catogories_6</th>\n",
       "      <th>lda_catogories_7</th>\n",
       "      <th>lda_catogories_8</th>\n",
       "      <th>lda_catogories_9</th>\n",
       "      <th>lda_catogories_10</th>\n",
       "      <th>lda_catogories_11</th>\n",
       "    </tr>\n",
       "  </thead>\n",
       "  <tbody>\n",
       "    <tr>\n",
       "      <th>0</th>\n",
       "      <td>I love this phone so much!  I had this phone f...</td>\n",
       "      <td>B006QMZCT0_0</td>\n",
       "      <td>[u'love', u'phone', u'much', u'phone', u'year'...</td>\n",
       "      <td>mobilephone</td>\n",
       "      <td>[('cameras', 0.353), ('tablets', 0.169), ('lap...</td>\n",
       "      <td>[('cameras', 0.101), ('tablets', 0.102), ('TVs...</td>\n",
       "      <td>[('laptops', 0.118), ('mobilephone', 0.314), (...</td>\n",
       "      <td>[('TVs', 0.242), ('tablets', 0.108), ('laptops...</td>\n",
       "      <td>[('mobilephone', 0.976), ('video_surveillance'...</td>\n",
       "      <td>[('TVs', 0.279), ('mobilephone', 0.18), ('vide...</td>\n",
       "      <td>[('tablets', 0.059), ('laptops', 0.061), ('tab...</td>\n",
       "      <td>[('laptops', 0.022), ('laptops', 0.242), ('TVs...</td>\n",
       "      <td>[('tablets', 0.074), ('tablets', 0.163), ('tab...</td>\n",
       "      <td>[('laptops', 0.029), ('cameras', 0.174), ('lap...</td>\n",
       "    </tr>\n",
       "  </tbody>\n",
       "</table>\n",
       "</div>"
      ],
      "text/plain": [
       "                                          raw_review            id  \\\n",
       "0  I love this phone so much!  I had this phone f...  B006QMZCT0_0   \n",
       "\n",
       "                                              review real_category  \\\n",
       "0  [u'love', u'phone', u'much', u'phone', u'year'...   mobilephone   \n",
       "\n",
       "                                      lda_catogories  \\\n",
       "0  [('cameras', 0.353), ('tablets', 0.169), ('lap...   \n",
       "\n",
       "                                   lda_catogories_12  \\\n",
       "0  [('cameras', 0.101), ('tablets', 0.102), ('TVs...   \n",
       "\n",
       "                                    lda_catogories_4  \\\n",
       "0  [('laptops', 0.118), ('mobilephone', 0.314), (...   \n",
       "\n",
       "                                    lda_catogories_5  \\\n",
       "0  [('TVs', 0.242), ('tablets', 0.108), ('laptops...   \n",
       "\n",
       "                                    lda_catogories_6  \\\n",
       "0  [('mobilephone', 0.976), ('video_surveillance'...   \n",
       "\n",
       "                                    lda_catogories_7  \\\n",
       "0  [('TVs', 0.279), ('mobilephone', 0.18), ('vide...   \n",
       "\n",
       "                                    lda_catogories_8  \\\n",
       "0  [('tablets', 0.059), ('laptops', 0.061), ('tab...   \n",
       "\n",
       "                                    lda_catogories_9  \\\n",
       "0  [('laptops', 0.022), ('laptops', 0.242), ('TVs...   \n",
       "\n",
       "                                   lda_catogories_10  \\\n",
       "0  [('tablets', 0.074), ('tablets', 0.163), ('tab...   \n",
       "\n",
       "                                   lda_catogories_11  \n",
       "0  [('laptops', 0.029), ('cameras', 0.174), ('lap...  "
      ]
     },
     "execution_count": 3,
     "metadata": {},
     "output_type": "execute_result"
    }
   ],
   "source": [
    "df.head(1)"
   ]
  },
  {
   "cell_type": "code",
   "execution_count": 4,
   "metadata": {
    "collapsed": true
   },
   "outputs": [],
   "source": [
    "reviews_df = df[['raw_review', 'real_category']].copy()"
   ]
  },
  {
   "cell_type": "code",
   "execution_count": 5,
   "metadata": {
    "collapsed": false
   },
   "outputs": [
    {
     "data": {
      "text/html": [
       "<div>\n",
       "<table border=\"1\" class=\"dataframe\">\n",
       "  <thead>\n",
       "    <tr style=\"text-align: right;\">\n",
       "      <th></th>\n",
       "      <th>raw_review</th>\n",
       "      <th>real_category</th>\n",
       "    </tr>\n",
       "  </thead>\n",
       "  <tbody>\n",
       "    <tr>\n",
       "      <th>0</th>\n",
       "      <td>I love this phone so much!  I had this phone f...</td>\n",
       "      <td>mobilephone</td>\n",
       "    </tr>\n",
       "    <tr>\n",
       "      <th>1</th>\n",
       "      <td>This phone often just freezes or turns itself ...</td>\n",
       "      <td>mobilephone</td>\n",
       "    </tr>\n",
       "    <tr>\n",
       "      <th>2</th>\n",
       "      <td>What I would have like to know before I purcha...</td>\n",
       "      <td>mobilephone</td>\n",
       "    </tr>\n",
       "    <tr>\n",
       "      <th>3</th>\n",
       "      <td>I bought two of these phones for my kids.  Bot...</td>\n",
       "      <td>mobilephone</td>\n",
       "    </tr>\n",
       "    <tr>\n",
       "      <th>4</th>\n",
       "      <td>Liked the phone, but after a while I started h...</td>\n",
       "      <td>mobilephone</td>\n",
       "    </tr>\n",
       "  </tbody>\n",
       "</table>\n",
       "</div>"
      ],
      "text/plain": [
       "                                          raw_review real_category\n",
       "0  I love this phone so much!  I had this phone f...   mobilephone\n",
       "1  This phone often just freezes or turns itself ...   mobilephone\n",
       "2  What I would have like to know before I purcha...   mobilephone\n",
       "3  I bought two of these phones for my kids.  Bot...   mobilephone\n",
       "4  Liked the phone, but after a while I started h...   mobilephone"
      ]
     },
     "execution_count": 5,
     "metadata": {},
     "output_type": "execute_result"
    }
   ],
   "source": [
    "# examine the first 5 rows\n",
    "reviews_df.head(5)"
   ]
  },
  {
   "cell_type": "code",
   "execution_count": 6,
   "metadata": {
    "collapsed": false
   },
   "outputs": [
    {
     "data": {
      "text/plain": [
       "mobilephone           4812\n",
       "video_surveillance    4675\n",
       "cameras               4578\n",
       "tablets               4482\n",
       "TVs                   4461\n",
       "laptops               4312\n",
       "Name: real_category, dtype: int64"
      ]
     },
     "execution_count": 6,
     "metadata": {},
     "output_type": "execute_result"
    }
   ],
   "source": [
    "reviews_df.real_category.value_counts()"
   ]
  },
  {
   "cell_type": "code",
   "execution_count": 7,
   "metadata": {
    "collapsed": false
   },
   "outputs": [],
   "source": [
    "# convert label to a numerical variable\n",
    "reviews_df['real_category_num'] = reviews_df.real_category.map({'mobilephone':0, 'cameras':1, 'video_surveillance':2, 'TVs':3, 'tablets':4 , 'laptops':5})"
   ]
  },
  {
   "cell_type": "code",
   "execution_count": 8,
   "metadata": {
    "collapsed": false
   },
   "outputs": [
    {
     "data": {
      "text/html": [
       "<div>\n",
       "<table border=\"1\" class=\"dataframe\">\n",
       "  <thead>\n",
       "    <tr style=\"text-align: right;\">\n",
       "      <th></th>\n",
       "      <th>raw_review</th>\n",
       "      <th>real_category</th>\n",
       "      <th>real_category_num</th>\n",
       "    </tr>\n",
       "  </thead>\n",
       "  <tbody>\n",
       "    <tr>\n",
       "      <th>0</th>\n",
       "      <td>I love this phone so much!  I had this phone f...</td>\n",
       "      <td>mobilephone</td>\n",
       "      <td>0</td>\n",
       "    </tr>\n",
       "    <tr>\n",
       "      <th>1</th>\n",
       "      <td>This phone often just freezes or turns itself ...</td>\n",
       "      <td>mobilephone</td>\n",
       "      <td>0</td>\n",
       "    </tr>\n",
       "  </tbody>\n",
       "</table>\n",
       "</div>"
      ],
      "text/plain": [
       "                                          raw_review real_category  \\\n",
       "0  I love this phone so much!  I had this phone f...   mobilephone   \n",
       "1  This phone often just freezes or turns itself ...   mobilephone   \n",
       "\n",
       "   real_category_num  \n",
       "0                  0  \n",
       "1                  0  "
      ]
     },
     "execution_count": 8,
     "metadata": {},
     "output_type": "execute_result"
    }
   ],
   "source": [
    "reviews_df.head(2)"
   ]
  },
  {
   "cell_type": "code",
   "execution_count": 9,
   "metadata": {
    "collapsed": false
   },
   "outputs": [
    {
     "name": "stdout",
     "output_type": "stream",
     "text": [
      "(27320,)\n",
      "(27320,)\n"
     ]
    }
   ],
   "source": [
    "# how to define X and y (from the SMS data) for use with COUNTVECTORIZER\n",
    "X = reviews_df.raw_review\n",
    "y = reviews_df.real_category_num\n",
    "print(X.shape)\n",
    "print(y.shape)"
   ]
  },
  {
   "cell_type": "code",
   "execution_count": 10,
   "metadata": {
    "collapsed": false
   },
   "outputs": [
    {
     "name": "stdout",
     "output_type": "stream",
     "text": [
      "(21856,)\n",
      "(5464,)\n",
      "(21856,)\n",
      "(5464,)\n"
     ]
    }
   ],
   "source": [
    "# split X and y into training and testing sets\n",
    "X_train, X_test, y_train, y_test = train_test_split(X, y, test_size = 0.2, random_state=10)\n",
    "print(X_train.shape)\n",
    "print(X_test.shape)\n",
    "print(y_train.shape)\n",
    "print(y_test.shape)"
   ]
  },
  {
   "cell_type": "code",
   "execution_count": 11,
   "metadata": {
    "collapsed": true
   },
   "outputs": [],
   "source": [
    "# instantiate CountVectorizer (with the default parameters)\n",
    "vect = CountVectorizer(max_df=0.7, min_df=2, stop_words='english', ngram_range=(1, 3))"
   ]
  },
  {
   "cell_type": "code",
   "execution_count": 12,
   "metadata": {
    "collapsed": true
   },
   "outputs": [],
   "source": [
    "# learn training data vocabulary, then use it to create a document-term matrix\n",
    "X_train_dtm = vect.fit_transform(X_train)"
   ]
  },
  {
   "cell_type": "code",
   "execution_count": 13,
   "metadata": {
    "collapsed": false
   },
   "outputs": [
    {
     "data": {
      "text/plain": [
       "<21856x324146 sparse matrix of type '<type 'numpy.int64'>'\n",
       "\twith 1920844 stored elements in Compressed Sparse Row format>"
      ]
     },
     "execution_count": 13,
     "metadata": {},
     "output_type": "execute_result"
    }
   ],
   "source": [
    "# examine the document-term matrix\n",
    "X_train_dtm"
   ]
  },
  {
   "cell_type": "code",
   "execution_count": 14,
   "metadata": {
    "collapsed": false
   },
   "outputs": [
    {
     "data": {
      "text/plain": [
       "<5464x324146 sparse matrix of type '<type 'numpy.int64'>'\n",
       "\twith 376785 stored elements in Compressed Sparse Row format>"
      ]
     },
     "execution_count": 14,
     "metadata": {},
     "output_type": "execute_result"
    }
   ],
   "source": [
    "# transform testing data (using fitted vocabulary) into a document-term matrix\n",
    "X_test_dtm = vect.transform(X_test)\n",
    "X_test_dtm"
   ]
  },
  {
   "cell_type": "markdown",
   "metadata": {},
   "source": [
    "# Naive Bayes model"
   ]
  },
  {
   "cell_type": "code",
   "execution_count": 15,
   "metadata": {
    "collapsed": true
   },
   "outputs": [],
   "source": [
    "# instantiate a Multinomial Naive Bayes model\n",
    "nb = MultinomialNB()"
   ]
  },
  {
   "cell_type": "code",
   "execution_count": 16,
   "metadata": {
    "collapsed": false
   },
   "outputs": [
    {
     "name": "stdout",
     "output_type": "stream",
     "text": [
      "CPU times: user 284 ms, sys: 0 ns, total: 284 ms\n",
      "Wall time: 303 ms\n"
     ]
    },
    {
     "data": {
      "text/plain": [
       "MultinomialNB(alpha=1.0, class_prior=None, fit_prior=True)"
      ]
     },
     "execution_count": 16,
     "metadata": {},
     "output_type": "execute_result"
    }
   ],
   "source": [
    "# train the model using X_train_dtm (timing it with an IPython \"magic command\")\n",
    "%time nb.fit(X_train_dtm, y_train)"
   ]
  },
  {
   "cell_type": "code",
   "execution_count": 17,
   "metadata": {
    "collapsed": true
   },
   "outputs": [],
   "source": [
    "# make class predictions for X_test_dtm\n",
    "y_pred_class = nb.predict(X_test_dtm)"
   ]
  },
  {
   "cell_type": "code",
   "execution_count": 18,
   "metadata": {
    "collapsed": false
   },
   "outputs": [
    {
     "data": {
      "text/plain": [
       "0.9092240117130308"
      ]
     },
     "execution_count": 18,
     "metadata": {},
     "output_type": "execute_result"
    }
   ],
   "source": [
    "# calculate accuracy of class predictions\n",
    "metrics.accuracy_score(y_test, y_pred_class)"
   ]
  },
  {
   "cell_type": "code",
   "execution_count": 19,
   "metadata": {
    "collapsed": false
   },
   "outputs": [
    {
     "data": {
      "text/plain": [
       "array([[862,   2,  19,   0,  55,   3],\n",
       "       [  5, 867,  38,   4,  33,   3],\n",
       "       [  3,   4, 860,   4,  12,   2],\n",
       "       [  4,   3,  47, 753,  43,   6],\n",
       "       [ 13,   2,  31,   4, 826,   9],\n",
       "       [  5,   2,  21,   3, 116, 800]])"
      ]
     },
     "execution_count": 19,
     "metadata": {},
     "output_type": "execute_result"
    }
   ],
   "source": [
    "# print the confusion matrix\n",
    "metrics.confusion_matrix(y_test, y_pred_class)"
   ]
  },
  {
   "cell_type": "markdown",
   "metadata": {},
   "source": [
    "# Logistic regression model\n"
   ]
  },
  {
   "cell_type": "code",
   "execution_count": 20,
   "metadata": {
    "collapsed": true
   },
   "outputs": [],
   "source": [
    "# import and instantiate a logistic regression model\n",
    "from sklearn.linear_model import LogisticRegression\n",
    "logreg = LogisticRegression()"
   ]
  },
  {
   "cell_type": "code",
   "execution_count": 21,
   "metadata": {
    "collapsed": false
   },
   "outputs": [
    {
     "name": "stdout",
     "output_type": "stream",
     "text": [
      "CPU times: user 1min 46s, sys: 3.15 s, total: 1min 49s\n",
      "Wall time: 1min 27s\n"
     ]
    },
    {
     "data": {
      "text/plain": [
       "LogisticRegression(C=1.0, class_weight=None, dual=False, fit_intercept=True,\n",
       "          intercept_scaling=1, max_iter=100, multi_class='ovr', n_jobs=1,\n",
       "          penalty='l2', random_state=None, solver='liblinear', tol=0.0001,\n",
       "          verbose=0, warm_start=False)"
      ]
     },
     "execution_count": 21,
     "metadata": {},
     "output_type": "execute_result"
    }
   ],
   "source": [
    "# train the model using X_train_dtm\n",
    "%time logreg.fit(X_train_dtm, y_train)"
   ]
  },
  {
   "cell_type": "code",
   "execution_count": 22,
   "metadata": {
    "collapsed": true
   },
   "outputs": [],
   "source": [
    "# make class predictions for X_test_dtm\n",
    "y_pred_class = logreg.predict(X_test_dtm)"
   ]
  },
  {
   "cell_type": "code",
   "execution_count": 23,
   "metadata": {
    "collapsed": false
   },
   "outputs": [
    {
     "data": {
      "text/plain": [
       "0.94125183016105418"
      ]
     },
     "execution_count": 23,
     "metadata": {},
     "output_type": "execute_result"
    }
   ],
   "source": [
    "# calculate accuracy\n",
    "metrics.accuracy_score(y_test, y_pred_class)"
   ]
  },
  {
   "cell_type": "code",
   "execution_count": 24,
   "metadata": {
    "collapsed": false
   },
   "outputs": [
    {
     "data": {
      "text/plain": [
       "array([[909,   5,   3,   3,  13,   8],\n",
       "       [  4, 913,   8,   9,  11,   5],\n",
       "       [ 11,  15, 826,  11,  16,   6],\n",
       "       [  6,   0,   6, 829,  10,   5],\n",
       "       [ 13,   4,  10,  17, 817,  24],\n",
       "       [  7,   3,  11,  16,  61, 849]])"
      ]
     },
     "execution_count": 24,
     "metadata": {},
     "output_type": "execute_result"
    }
   ],
   "source": [
    "# print the confusion matrix\n",
    "metrics.confusion_matrix(y_test, y_pred_class)"
   ]
  },
  {
   "cell_type": "markdown",
   "metadata": {},
   "source": [
    "# KNN model"
   ]
  },
  {
   "cell_type": "code",
   "execution_count": 25,
   "metadata": {
    "collapsed": false
   },
   "outputs": [
    {
     "data": {
      "text/plain": [
       "0.57430453879941434"
      ]
     },
     "execution_count": 25,
     "metadata": {},
     "output_type": "execute_result"
    }
   ],
   "source": [
    "# try K=1, record testing accuracy\n",
    "knn = KNeighborsClassifier(n_neighbors=1)\n",
    "knn.fit(X_train_dtm, y_train)\n",
    "y_pred = knn.predict(X_test_dtm)\n",
    "metrics.accuracy_score(y_test, y_pred)"
   ]
  },
  {
   "cell_type": "code",
   "execution_count": 26,
   "metadata": {
    "collapsed": false,
    "scrolled": true
   },
   "outputs": [
    {
     "data": {
      "text/plain": [
       "array([[675,  39,   7, 205,  10,   5],\n",
       "       [  8, 691,   4, 193,  51,   3],\n",
       "       [ 23,  85, 254, 439,  70,  14],\n",
       "       [  4,  34,   9, 806,   3,   0],\n",
       "       [ 19,  67,   9, 440, 336,  14],\n",
       "       [ 10,  64,  19, 422,  56, 376]])"
      ]
     },
     "execution_count": 26,
     "metadata": {},
     "output_type": "execute_result"
    }
   ],
   "source": [
    "# print the confusion matrix\n",
    "metrics.confusion_matrix(y_test, y_pred)"
   ]
  },
  {
   "cell_type": "markdown",
   "metadata": {},
   "source": [
    "# SVM model"
   ]
  },
  {
   "cell_type": "code",
   "execution_count": 27,
   "metadata": {
    "collapsed": false
   },
   "outputs": [
    {
     "name": "stdout",
     "output_type": "stream",
     "text": [
      "CPU times: user 2min 10s, sys: 1.26 s, total: 2min 11s\n",
      "Wall time: 2min 21s\n"
     ]
    },
    {
     "data": {
      "text/plain": [
       "SVC(C=1.0, cache_size=200, class_weight=None, coef0=0.0,\n",
       "  decision_function_shape=None, degree=3, gamma='auto', kernel='linear',\n",
       "  max_iter=-1, probability=False, random_state=None, shrinking=True,\n",
       "  tol=0.001, verbose=False)"
      ]
     },
     "execution_count": 27,
     "metadata": {},
     "output_type": "execute_result"
    }
   ],
   "source": [
    "from sklearn import svm\n",
    "svm_clf = svm.SVC(kernel='linear')\n",
    "# train the model using X_train_dtm\n",
    "%time svm_clf.fit(X_train_dtm, y_train)"
   ]
  },
  {
   "cell_type": "code",
   "execution_count": 28,
   "metadata": {
    "collapsed": true
   },
   "outputs": [],
   "source": [
    "# make class predictions for X_test_dtm\n",
    "y_pred_class = svm_clf.predict(X_test_dtm)"
   ]
  },
  {
   "cell_type": "code",
   "execution_count": 29,
   "metadata": {
    "collapsed": false
   },
   "outputs": [
    {
     "data": {
      "text/plain": [
       "0.92789165446559296"
      ]
     },
     "execution_count": 29,
     "metadata": {},
     "output_type": "execute_result"
    }
   ],
   "source": [
    "# calculate accuracy\n",
    "metrics.accuracy_score(y_test, y_pred_class)"
   ]
  },
  {
   "cell_type": "code",
   "execution_count": 30,
   "metadata": {
    "collapsed": false
   },
   "outputs": [
    {
     "data": {
      "text/plain": [
       "array([[900,   3,   8,   7,  19,   4],\n",
       "       [  5, 898,  14,  14,  12,   7],\n",
       "       [ 12,  13, 818,  15,  21,   6],\n",
       "       [  7,   0,  11, 816,  16,   6],\n",
       "       [ 12,   7,  17,  19, 800,  30],\n",
       "       [  8,   4,  14,  21,  62, 838]])"
      ]
     },
     "execution_count": 30,
     "metadata": {},
     "output_type": "execute_result"
    }
   ],
   "source": [
    "# print the confusion matrix\n",
    "metrics.confusion_matrix(y_test, y_pred_class)"
   ]
  },
  {
   "cell_type": "markdown",
   "metadata": {
    "collapsed": false
   },
   "source": [
    "![alt text](http://i.imgur.com/5ZriKGT.png \"Title\")"
   ]
  },
  {
   "cell_type": "code",
   "execution_count": null,
   "metadata": {
    "collapsed": true
   },
   "outputs": [],
   "source": []
  }
 ],
 "metadata": {
  "anaconda-cloud": {},
  "kernelspec": {
   "display_name": "Python [default]",
   "language": "python",
   "name": "python2"
  },
  "language_info": {
   "codemirror_mode": {
    "name": "ipython",
    "version": 2
   },
   "file_extension": ".py",
   "mimetype": "text/x-python",
   "name": "python",
   "nbconvert_exporter": "python",
   "pygments_lexer": "ipython2",
   "version": "2.7.12"
  }
 },
 "nbformat": 4,
 "nbformat_minor": 1
}
