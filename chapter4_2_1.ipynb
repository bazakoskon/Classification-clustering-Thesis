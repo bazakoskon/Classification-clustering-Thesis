{
 "cells": [
  {
   "cell_type": "markdown",
   "metadata": {},
   "source": [
    "# Ταξινόμηση κειμενικής πληροφορίας\n",
    "- Ταξινομητές που χρησιμοποιήθηκαν\n",
    "    - Naive Bayes\n",
    "    - Random Forest\n",
    "    - Logistic Regression\n",
    "    - K-nearest neighbors\n",
    "    - Support vector machine\n",
    "    \n",
    "- Dataset: <a href='http://times.cs.uiuc.edu/~wang296/Data/'>Six Categories of Amazon Product Reviews</a>"
   ]
  },
  {
   "cell_type": "code",
   "execution_count": 1,
   "metadata": {
    "collapsed": false
   },
   "outputs": [],
   "source": [
    "# for Python 2: use print only as a function\n",
    "%matplotlib inline\n",
    "import matplotlib.pyplot as plt\n",
    "from __future__ import print_function\n",
    "from sklearn.feature_extraction.text import CountVectorizer, TfidfTransformer\n",
    "from sklearn.cross_validation import train_test_split\n",
    "from sklearn.metrics import classification_report, f1_score, accuracy_score, confusion_matrix\n",
    "from sklearn import metrics\n",
    "from sklearn.naive_bayes import MultinomialNB\n",
    "from sklearn.ensemble import RandomForestClassifier \n",
    "import numpy as np\n",
    "from sklearn.neighbors import KNeighborsClassifier\n",
    "from sklearn.cross_validation import cross_val_score\n",
    "from sklearn.pipeline import Pipeline"
   ]
  },
  {
   "cell_type": "markdown",
   "metadata": {},
   "source": [
    "### Φόρτωση των δεδομένων"
   ]
  },
  {
   "cell_type": "code",
   "execution_count": 2,
   "metadata": {
    "collapsed": false
   },
   "outputs": [
    {
     "data": {
      "text/plain": [
       "(27320, 14)"
      ]
     },
     "execution_count": 2,
     "metadata": {},
     "output_type": "execute_result"
    }
   ],
   "source": [
    "import pandas as pd\n",
    "df = pd.read_csv('reviews.csv')\n",
    "df.shape"
   ]
  },
  {
   "cell_type": "markdown",
   "metadata": {},
   "source": [
    "### Επισκόπηση των πρώτων γραμμών"
   ]
  },
  {
   "cell_type": "code",
   "execution_count": 3,
   "metadata": {
    "collapsed": false,
    "scrolled": true
   },
   "outputs": [
    {
     "data": {
      "text/html": [
       "<div>\n",
       "<table border=\"1\" class=\"dataframe\">\n",
       "  <thead>\n",
       "    <tr style=\"text-align: right;\">\n",
       "      <th></th>\n",
       "      <th>raw_review</th>\n",
       "      <th>id</th>\n",
       "      <th>review</th>\n",
       "      <th>real_category</th>\n",
       "      <th>lda_catogories</th>\n",
       "      <th>lda_catogories_12</th>\n",
       "      <th>lda_catogories_4</th>\n",
       "      <th>lda_catogories_5</th>\n",
       "      <th>lda_catogories_6</th>\n",
       "      <th>lda_catogories_7</th>\n",
       "      <th>lda_catogories_8</th>\n",
       "      <th>lda_catogories_9</th>\n",
       "      <th>lda_catogories_10</th>\n",
       "      <th>lda_catogories_11</th>\n",
       "    </tr>\n",
       "  </thead>\n",
       "  <tbody>\n",
       "    <tr>\n",
       "      <th>0</th>\n",
       "      <td>I love this phone so much!  I had this phone f...</td>\n",
       "      <td>B006QMZCT0_0</td>\n",
       "      <td>[u'love', u'phone', u'much', u'phone', u'year'...</td>\n",
       "      <td>mobilephone</td>\n",
       "      <td>[('cameras', 0.353), ('tablets', 0.169), ('lap...</td>\n",
       "      <td>[('cameras', 0.101), ('tablets', 0.102), ('TVs...</td>\n",
       "      <td>[('laptops', 0.118), ('mobilephone', 0.314), (...</td>\n",
       "      <td>[('TVs', 0.242), ('tablets', 0.108), ('laptops...</td>\n",
       "      <td>[('mobilephone', 0.976), ('video_surveillance'...</td>\n",
       "      <td>[('TVs', 0.279), ('mobilephone', 0.18), ('vide...</td>\n",
       "      <td>[('tablets', 0.059), ('laptops', 0.061), ('tab...</td>\n",
       "      <td>[('laptops', 0.022), ('laptops', 0.242), ('TVs...</td>\n",
       "      <td>[('tablets', 0.074), ('tablets', 0.163), ('tab...</td>\n",
       "      <td>[('laptops', 0.029), ('cameras', 0.174), ('lap...</td>\n",
       "    </tr>\n",
       "    <tr>\n",
       "      <th>1</th>\n",
       "      <td>This phone often just freezes or turns itself ...</td>\n",
       "      <td>B006QMZCT0_1</td>\n",
       "      <td>[u'phone', u'often', u'just', u'freez', u'turn...</td>\n",
       "      <td>mobilephone</td>\n",
       "      <td>[('cameras', 0.104), ('tablets', 0.039), ('lap...</td>\n",
       "      <td>[('cameras', 0.01), ('tablets', 0.004), ('TVs'...</td>\n",
       "      <td>[('laptops', 0.039), ('mobilephone', 0.097), (...</td>\n",
       "      <td>[('TVs', 0.057), ('tablets', 0.025), ('laptops...</td>\n",
       "      <td>[('mobilephone', 0.375), ('video_surveillance'...</td>\n",
       "      <td>[('TVs', 0.07), ('mobilephone', 0.05), ('video...</td>\n",
       "      <td>[('tablets', 0.015), ('laptops', 0.014), ('tab...</td>\n",
       "      <td>[('laptops', 0.009), ('laptops', 0.057), ('TVs...</td>\n",
       "      <td>[('tablets', 0.016), ('tablets', 0.036), ('tab...</td>\n",
       "      <td>[('laptops', 0.022), ('cameras', 0.029), ('lap...</td>\n",
       "    </tr>\n",
       "    <tr>\n",
       "      <th>2</th>\n",
       "      <td>What I would have like to know before I purcha...</td>\n",
       "      <td>B006QMZCT0_2</td>\n",
       "      <td>[u'like', u'know', u'purchas', u'product', u'r...</td>\n",
       "      <td>mobilephone</td>\n",
       "      <td>[('cameras', 0.173), ('tablets', 0.18), ('lapt...</td>\n",
       "      <td>[('cameras', 0.046), ('tablets', 0.085), ('TVs...</td>\n",
       "      <td>[('laptops', 0.171), ('mobilephone', 0.245), (...</td>\n",
       "      <td>[('TVs', 0.221), ('tablets', 0.201), ('laptops...</td>\n",
       "      <td>[('mobilephone', 0.479), ('video_surveillance'...</td>\n",
       "      <td>[('TVs', 0.27), ('mobilephone', 0.234), ('vide...</td>\n",
       "      <td>[('tablets', 0.078), ('laptops', 0.087), ('tab...</td>\n",
       "      <td>[('laptops', 0.117), ('laptops', 0.21), ('TVs'...</td>\n",
       "      <td>[('tablets', 0.043), ('tablets', 0.245), ('tab...</td>\n",
       "      <td>[('laptops', 0.117), ('cameras', 0.087), ('lap...</td>\n",
       "    </tr>\n",
       "    <tr>\n",
       "      <th>3</th>\n",
       "      <td>I bought two of these phones for my kids.  Bot...</td>\n",
       "      <td>B006QMZCT0_3</td>\n",
       "      <td>[u'bought', u'phone', u'kid', u'phone', u'brok...</td>\n",
       "      <td>mobilephone</td>\n",
       "      <td>[('cameras', 0.067), ('tablets', 0.02), ('lapt...</td>\n",
       "      <td>[('cameras', 0.002), ('tablets', 0.008), ('TVs...</td>\n",
       "      <td>[('laptops', 0.013), ('mobilephone', 0.055), (...</td>\n",
       "      <td>[('TVs', 0.027), ('tablets', 0.013), ('laptops...</td>\n",
       "      <td>[('mobilephone', 0.228), ('video_surveillance'...</td>\n",
       "      <td>[('TVs', 0.037), ('mobilephone', 0.025), ('vid...</td>\n",
       "      <td>[('tablets', 0.004), ('laptops', 0.0), ('table...</td>\n",
       "      <td>[('laptops', 0.003), ('laptops', 0.024), ('TVs...</td>\n",
       "      <td>[('tablets', 0.004), ('tablets', 0.023), ('tab...</td>\n",
       "      <td>[('laptops', 0.002), ('cameras', 0.022), ('lap...</td>\n",
       "    </tr>\n",
       "    <tr>\n",
       "      <th>4</th>\n",
       "      <td>Liked the phone, but after a while I started h...</td>\n",
       "      <td>B006QMZCT0_4</td>\n",
       "      <td>[u'like', u'phone', u'start', u'issu', u'call'...</td>\n",
       "      <td>mobilephone</td>\n",
       "      <td>[('cameras', 0.086), ('tablets', 0.06), ('lapt...</td>\n",
       "      <td>[('cameras', 0.016), ('tablets', 0.028), ('TVs...</td>\n",
       "      <td>[('laptops', 0.069), ('mobilephone', 0.085), (...</td>\n",
       "      <td>[('TVs', 0.039), ('tablets', 0.085), ('laptops...</td>\n",
       "      <td>[('mobilephone', 0.378), ('video_surveillance'...</td>\n",
       "      <td>[('TVs', 0.05), ('mobilephone', 0.108), ('vide...</td>\n",
       "      <td>[('tablets', 0.024), ('laptops', 0.022), ('tab...</td>\n",
       "      <td>[('laptops', 0.037), ('laptops', 0.039), ('TVs...</td>\n",
       "      <td>[('tablets', 0.025), ('tablets', 0.113), ('tab...</td>\n",
       "      <td>[('laptops', 0.032), ('cameras', 0.018), ('lap...</td>\n",
       "    </tr>\n",
       "  </tbody>\n",
       "</table>\n",
       "</div>"
      ],
      "text/plain": [
       "                                          raw_review            id  \\\n",
       "0  I love this phone so much!  I had this phone f...  B006QMZCT0_0   \n",
       "1  This phone often just freezes or turns itself ...  B006QMZCT0_1   \n",
       "2  What I would have like to know before I purcha...  B006QMZCT0_2   \n",
       "3  I bought two of these phones for my kids.  Bot...  B006QMZCT0_3   \n",
       "4  Liked the phone, but after a while I started h...  B006QMZCT0_4   \n",
       "\n",
       "                                              review real_category  \\\n",
       "0  [u'love', u'phone', u'much', u'phone', u'year'...   mobilephone   \n",
       "1  [u'phone', u'often', u'just', u'freez', u'turn...   mobilephone   \n",
       "2  [u'like', u'know', u'purchas', u'product', u'r...   mobilephone   \n",
       "3  [u'bought', u'phone', u'kid', u'phone', u'brok...   mobilephone   \n",
       "4  [u'like', u'phone', u'start', u'issu', u'call'...   mobilephone   \n",
       "\n",
       "                                      lda_catogories  \\\n",
       "0  [('cameras', 0.353), ('tablets', 0.169), ('lap...   \n",
       "1  [('cameras', 0.104), ('tablets', 0.039), ('lap...   \n",
       "2  [('cameras', 0.173), ('tablets', 0.18), ('lapt...   \n",
       "3  [('cameras', 0.067), ('tablets', 0.02), ('lapt...   \n",
       "4  [('cameras', 0.086), ('tablets', 0.06), ('lapt...   \n",
       "\n",
       "                                   lda_catogories_12  \\\n",
       "0  [('cameras', 0.101), ('tablets', 0.102), ('TVs...   \n",
       "1  [('cameras', 0.01), ('tablets', 0.004), ('TVs'...   \n",
       "2  [('cameras', 0.046), ('tablets', 0.085), ('TVs...   \n",
       "3  [('cameras', 0.002), ('tablets', 0.008), ('TVs...   \n",
       "4  [('cameras', 0.016), ('tablets', 0.028), ('TVs...   \n",
       "\n",
       "                                    lda_catogories_4  \\\n",
       "0  [('laptops', 0.118), ('mobilephone', 0.314), (...   \n",
       "1  [('laptops', 0.039), ('mobilephone', 0.097), (...   \n",
       "2  [('laptops', 0.171), ('mobilephone', 0.245), (...   \n",
       "3  [('laptops', 0.013), ('mobilephone', 0.055), (...   \n",
       "4  [('laptops', 0.069), ('mobilephone', 0.085), (...   \n",
       "\n",
       "                                    lda_catogories_5  \\\n",
       "0  [('TVs', 0.242), ('tablets', 0.108), ('laptops...   \n",
       "1  [('TVs', 0.057), ('tablets', 0.025), ('laptops...   \n",
       "2  [('TVs', 0.221), ('tablets', 0.201), ('laptops...   \n",
       "3  [('TVs', 0.027), ('tablets', 0.013), ('laptops...   \n",
       "4  [('TVs', 0.039), ('tablets', 0.085), ('laptops...   \n",
       "\n",
       "                                    lda_catogories_6  \\\n",
       "0  [('mobilephone', 0.976), ('video_surveillance'...   \n",
       "1  [('mobilephone', 0.375), ('video_surveillance'...   \n",
       "2  [('mobilephone', 0.479), ('video_surveillance'...   \n",
       "3  [('mobilephone', 0.228), ('video_surveillance'...   \n",
       "4  [('mobilephone', 0.378), ('video_surveillance'...   \n",
       "\n",
       "                                    lda_catogories_7  \\\n",
       "0  [('TVs', 0.279), ('mobilephone', 0.18), ('vide...   \n",
       "1  [('TVs', 0.07), ('mobilephone', 0.05), ('video...   \n",
       "2  [('TVs', 0.27), ('mobilephone', 0.234), ('vide...   \n",
       "3  [('TVs', 0.037), ('mobilephone', 0.025), ('vid...   \n",
       "4  [('TVs', 0.05), ('mobilephone', 0.108), ('vide...   \n",
       "\n",
       "                                    lda_catogories_8  \\\n",
       "0  [('tablets', 0.059), ('laptops', 0.061), ('tab...   \n",
       "1  [('tablets', 0.015), ('laptops', 0.014), ('tab...   \n",
       "2  [('tablets', 0.078), ('laptops', 0.087), ('tab...   \n",
       "3  [('tablets', 0.004), ('laptops', 0.0), ('table...   \n",
       "4  [('tablets', 0.024), ('laptops', 0.022), ('tab...   \n",
       "\n",
       "                                    lda_catogories_9  \\\n",
       "0  [('laptops', 0.022), ('laptops', 0.242), ('TVs...   \n",
       "1  [('laptops', 0.009), ('laptops', 0.057), ('TVs...   \n",
       "2  [('laptops', 0.117), ('laptops', 0.21), ('TVs'...   \n",
       "3  [('laptops', 0.003), ('laptops', 0.024), ('TVs...   \n",
       "4  [('laptops', 0.037), ('laptops', 0.039), ('TVs...   \n",
       "\n",
       "                                   lda_catogories_10  \\\n",
       "0  [('tablets', 0.074), ('tablets', 0.163), ('tab...   \n",
       "1  [('tablets', 0.016), ('tablets', 0.036), ('tab...   \n",
       "2  [('tablets', 0.043), ('tablets', 0.245), ('tab...   \n",
       "3  [('tablets', 0.004), ('tablets', 0.023), ('tab...   \n",
       "4  [('tablets', 0.025), ('tablets', 0.113), ('tab...   \n",
       "\n",
       "                                   lda_catogories_11  \n",
       "0  [('laptops', 0.029), ('cameras', 0.174), ('lap...  \n",
       "1  [('laptops', 0.022), ('cameras', 0.029), ('lap...  \n",
       "2  [('laptops', 0.117), ('cameras', 0.087), ('lap...  \n",
       "3  [('laptops', 0.002), ('cameras', 0.022), ('lap...  \n",
       "4  [('laptops', 0.032), ('cameras', 0.018), ('lap...  "
      ]
     },
     "execution_count": 3,
     "metadata": {},
     "output_type": "execute_result"
    }
   ],
   "source": [
    "df.head()"
   ]
  },
  {
   "cell_type": "code",
   "execution_count": 4,
   "metadata": {
    "collapsed": false
   },
   "outputs": [
    {
     "name": "stdout",
     "output_type": "stream",
     "text": [
      "<class 'pandas.core.frame.DataFrame'>\n",
      "RangeIndex: 27320 entries, 0 to 27319\n",
      "Data columns (total 14 columns):\n",
      "raw_review           27320 non-null object\n",
      "id                   27320 non-null object\n",
      "review               27320 non-null object\n",
      "real_category        27320 non-null object\n",
      "lda_catogories       27320 non-null object\n",
      "lda_catogories_12    27320 non-null object\n",
      "lda_catogories_4     27320 non-null object\n",
      "lda_catogories_5     27320 non-null object\n",
      "lda_catogories_6     27320 non-null object\n",
      "lda_catogories_7     27320 non-null object\n",
      "lda_catogories_8     27320 non-null object\n",
      "lda_catogories_9     27320 non-null object\n",
      "lda_catogories_10    27320 non-null object\n",
      "lda_catogories_11    27320 non-null object\n",
      "dtypes: object(14)\n",
      "memory usage: 2.9+ MB\n"
     ]
    }
   ],
   "source": [
    "df.info()"
   ]
  },
  {
   "cell_type": "markdown",
   "metadata": {},
   "source": [
    "### Επιλογή των απαραίτητων χαρακτηριστικών για την εφαρμογή των μοντέλων"
   ]
  },
  {
   "cell_type": "code",
   "execution_count": 5,
   "metadata": {
    "collapsed": true
   },
   "outputs": [],
   "source": [
    "reviews_df = df[['raw_review', 'real_category']].copy()"
   ]
  },
  {
   "cell_type": "code",
   "execution_count": 6,
   "metadata": {
    "collapsed": false,
    "scrolled": false
   },
   "outputs": [
    {
     "data": {
      "text/html": [
       "<div>\n",
       "<table border=\"1\" class=\"dataframe\">\n",
       "  <thead>\n",
       "    <tr style=\"text-align: right;\">\n",
       "      <th></th>\n",
       "      <th>raw_review</th>\n",
       "      <th>real_category</th>\n",
       "    </tr>\n",
       "  </thead>\n",
       "  <tbody>\n",
       "    <tr>\n",
       "      <th>0</th>\n",
       "      <td>I love this phone so much!  I had this phone f...</td>\n",
       "      <td>mobilephone</td>\n",
       "    </tr>\n",
       "    <tr>\n",
       "      <th>1</th>\n",
       "      <td>This phone often just freezes or turns itself ...</td>\n",
       "      <td>mobilephone</td>\n",
       "    </tr>\n",
       "    <tr>\n",
       "      <th>2</th>\n",
       "      <td>What I would have like to know before I purcha...</td>\n",
       "      <td>mobilephone</td>\n",
       "    </tr>\n",
       "    <tr>\n",
       "      <th>3</th>\n",
       "      <td>I bought two of these phones for my kids.  Bot...</td>\n",
       "      <td>mobilephone</td>\n",
       "    </tr>\n",
       "    <tr>\n",
       "      <th>4</th>\n",
       "      <td>Liked the phone, but after a while I started h...</td>\n",
       "      <td>mobilephone</td>\n",
       "    </tr>\n",
       "  </tbody>\n",
       "</table>\n",
       "</div>"
      ],
      "text/plain": [
       "                                          raw_review real_category\n",
       "0  I love this phone so much!  I had this phone f...   mobilephone\n",
       "1  This phone often just freezes or turns itself ...   mobilephone\n",
       "2  What I would have like to know before I purcha...   mobilephone\n",
       "3  I bought two of these phones for my kids.  Bot...   mobilephone\n",
       "4  Liked the phone, but after a while I started h...   mobilephone"
      ]
     },
     "execution_count": 6,
     "metadata": {},
     "output_type": "execute_result"
    }
   ],
   "source": [
    "# examine the first and last 5 rows\n",
    "reviews_df.head(5)"
   ]
  },
  {
   "cell_type": "markdown",
   "metadata": {},
   "source": [
    "### Στατιστικά στοιχεία του νέου dataframe"
   ]
  },
  {
   "cell_type": "code",
   "execution_count": 7,
   "metadata": {
    "collapsed": false
   },
   "outputs": [
    {
     "data": {
      "text/html": [
       "<div>\n",
       "<table border=\"1\" class=\"dataframe\">\n",
       "  <thead>\n",
       "    <tr style=\"text-align: right;\">\n",
       "      <th></th>\n",
       "      <th></th>\n",
       "      <th>raw_review</th>\n",
       "    </tr>\n",
       "    <tr>\n",
       "      <th>real_category</th>\n",
       "      <th></th>\n",
       "      <th></th>\n",
       "    </tr>\n",
       "  </thead>\n",
       "  <tbody>\n",
       "    <tr>\n",
       "      <th rowspan=\"4\" valign=\"top\">TVs</th>\n",
       "      <th>count</th>\n",
       "      <td>4461</td>\n",
       "    </tr>\n",
       "    <tr>\n",
       "      <th>unique</th>\n",
       "      <td>3907</td>\n",
       "    </tr>\n",
       "    <tr>\n",
       "      <th>top</th>\n",
       "      <td>Just a great TV for the price.  We are very ha...</td>\n",
       "    </tr>\n",
       "    <tr>\n",
       "      <th>freq</th>\n",
       "      <td>2</td>\n",
       "    </tr>\n",
       "    <tr>\n",
       "      <th rowspan=\"4\" valign=\"top\">cameras</th>\n",
       "      <th>count</th>\n",
       "      <td>4578</td>\n",
       "    </tr>\n",
       "    <tr>\n",
       "      <th>unique</th>\n",
       "      <td>2899</td>\n",
       "    </tr>\n",
       "    <tr>\n",
       "      <th>top</th>\n",
       "      <td>After many months of going back and fourth bet...</td>\n",
       "    </tr>\n",
       "    <tr>\n",
       "      <th>freq</th>\n",
       "      <td>2</td>\n",
       "    </tr>\n",
       "    <tr>\n",
       "      <th rowspan=\"4\" valign=\"top\">laptops</th>\n",
       "      <th>count</th>\n",
       "      <td>4312</td>\n",
       "    </tr>\n",
       "    <tr>\n",
       "      <th>unique</th>\n",
       "      <td>3677</td>\n",
       "    </tr>\n",
       "    <tr>\n",
       "      <th>top</th>\n",
       "      <td>This is a nice device.  For $200, you would be...</td>\n",
       "    </tr>\n",
       "    <tr>\n",
       "      <th>freq</th>\n",
       "      <td>3</td>\n",
       "    </tr>\n",
       "    <tr>\n",
       "      <th rowspan=\"4\" valign=\"top\">mobilephone</th>\n",
       "      <th>count</th>\n",
       "      <td>4812</td>\n",
       "    </tr>\n",
       "    <tr>\n",
       "      <th>unique</th>\n",
       "      <td>3155</td>\n",
       "    </tr>\n",
       "    <tr>\n",
       "      <th>top</th>\n",
       "      <td>I love my moto g. it does everything all other...</td>\n",
       "    </tr>\n",
       "    <tr>\n",
       "      <th>freq</th>\n",
       "      <td>3</td>\n",
       "    </tr>\n",
       "    <tr>\n",
       "      <th rowspan=\"4\" valign=\"top\">tablets</th>\n",
       "      <th>count</th>\n",
       "      <td>4482</td>\n",
       "    </tr>\n",
       "    <tr>\n",
       "      <th>unique</th>\n",
       "      <td>4479</td>\n",
       "    </tr>\n",
       "    <tr>\n",
       "      <th>top</th>\n",
       "      <td>Ordered it just before Christmas...got it on t...</td>\n",
       "    </tr>\n",
       "    <tr>\n",
       "      <th>freq</th>\n",
       "      <td>3</td>\n",
       "    </tr>\n",
       "    <tr>\n",
       "      <th rowspan=\"4\" valign=\"top\">video_surveillance</th>\n",
       "      <th>count</th>\n",
       "      <td>4675</td>\n",
       "    </tr>\n",
       "    <tr>\n",
       "      <th>unique</th>\n",
       "      <td>4665</td>\n",
       "    </tr>\n",
       "    <tr>\n",
       "      <th>top</th>\n",
       "      <td>The best you can get for the price. Theres no ...</td>\n",
       "    </tr>\n",
       "    <tr>\n",
       "      <th>freq</th>\n",
       "      <td>2</td>\n",
       "    </tr>\n",
       "  </tbody>\n",
       "</table>\n",
       "</div>"
      ],
      "text/plain": [
       "                                                                  raw_review\n",
       "real_category                                                               \n",
       "TVs                count                                                4461\n",
       "                   unique                                               3907\n",
       "                   top     Just a great TV for the price.  We are very ha...\n",
       "                   freq                                                    2\n",
       "cameras            count                                                4578\n",
       "                   unique                                               2899\n",
       "                   top     After many months of going back and fourth bet...\n",
       "                   freq                                                    2\n",
       "laptops            count                                                4312\n",
       "                   unique                                               3677\n",
       "                   top     This is a nice device.  For $200, you would be...\n",
       "                   freq                                                    3\n",
       "mobilephone        count                                                4812\n",
       "                   unique                                               3155\n",
       "                   top     I love my moto g. it does everything all other...\n",
       "                   freq                                                    3\n",
       "tablets            count                                                4482\n",
       "                   unique                                               4479\n",
       "                   top     Ordered it just before Christmas...got it on t...\n",
       "                   freq                                                    3\n",
       "video_surveillance count                                                4675\n",
       "                   unique                                               4665\n",
       "                   top     The best you can get for the price. Theres no ...\n",
       "                   freq                                                    2"
      ]
     },
     "execution_count": 7,
     "metadata": {},
     "output_type": "execute_result"
    }
   ],
   "source": [
    "reviews_df.groupby('real_category').describe()"
   ]
  },
  {
   "cell_type": "markdown",
   "metadata": {},
   "source": [
    "### Προσθήκη στήλης με το μήκος του κάθε review"
   ]
  },
  {
   "cell_type": "code",
   "execution_count": 8,
   "metadata": {
    "collapsed": false,
    "scrolled": true
   },
   "outputs": [
    {
     "data": {
      "text/html": [
       "<div>\n",
       "<table border=\"1\" class=\"dataframe\">\n",
       "  <thead>\n",
       "    <tr style=\"text-align: right;\">\n",
       "      <th></th>\n",
       "      <th>raw_review</th>\n",
       "      <th>real_category</th>\n",
       "      <th>length</th>\n",
       "    </tr>\n",
       "  </thead>\n",
       "  <tbody>\n",
       "    <tr>\n",
       "      <th>0</th>\n",
       "      <td>I love this phone so much!  I had this phone f...</td>\n",
       "      <td>mobilephone</td>\n",
       "      <td>1081</td>\n",
       "    </tr>\n",
       "    <tr>\n",
       "      <th>1</th>\n",
       "      <td>This phone often just freezes or turns itself ...</td>\n",
       "      <td>mobilephone</td>\n",
       "      <td>281</td>\n",
       "    </tr>\n",
       "    <tr>\n",
       "      <th>2</th>\n",
       "      <td>What I would have like to know before I purcha...</td>\n",
       "      <td>mobilephone</td>\n",
       "      <td>936</td>\n",
       "    </tr>\n",
       "    <tr>\n",
       "      <th>3</th>\n",
       "      <td>I bought two of these phones for my kids.  Bot...</td>\n",
       "      <td>mobilephone</td>\n",
       "      <td>126</td>\n",
       "    </tr>\n",
       "    <tr>\n",
       "      <th>4</th>\n",
       "      <td>Liked the phone, but after a while I started h...</td>\n",
       "      <td>mobilephone</td>\n",
       "      <td>416</td>\n",
       "    </tr>\n",
       "  </tbody>\n",
       "</table>\n",
       "</div>"
      ],
      "text/plain": [
       "                                          raw_review real_category  length\n",
       "0  I love this phone so much!  I had this phone f...   mobilephone    1081\n",
       "1  This phone often just freezes or turns itself ...   mobilephone     281\n",
       "2  What I would have like to know before I purcha...   mobilephone     936\n",
       "3  I bought two of these phones for my kids.  Bot...   mobilephone     126\n",
       "4  Liked the phone, but after a while I started h...   mobilephone     416"
      ]
     },
     "execution_count": 8,
     "metadata": {},
     "output_type": "execute_result"
    }
   ],
   "source": [
    "reviews_df['length'] = reviews_df['raw_review'].map(lambda text: len(text))\n",
    "reviews_df.head()"
   ]
  },
  {
   "cell_type": "code",
   "execution_count": 104,
   "metadata": {
    "collapsed": false,
    "scrolled": true
   },
   "outputs": [
    {
     "data": {
      "text/plain": [
       "<matplotlib.axes._subplots.AxesSubplot at 0x7f415e853f10>"
      ]
     },
     "execution_count": 104,
     "metadata": {},
     "output_type": "execute_result"
    },
    {
     "data": {
      "image/png": "[encoded data removed]",
      "text/plain": [
       "<matplotlib.figure.Figure at 0x7f415e8daad0>"
      ]
     },
     "metadata": {},
     "output_type": "display_data"
    }
   ],
   "source": [
    "reviews_df.length.plot(bins=50, kind='hist',logy=True,title=r\"$\\mathrm{Histogram\\ of\\ Reviews\\ length:\\ bins=50}$\")"
   ]
  },
  {
   "cell_type": "code",
   "execution_count": 103,
   "metadata": {
    "collapsed": false
   },
   "outputs": [
    {
     "data": {
      "text/plain": [
       "<matplotlib.axes._subplots.AxesSubplot at 0x7f415ecbb550>"
      ]
     },
     "execution_count": 103,
     "metadata": {},
     "output_type": "execute_result"
    },
    {
     "data": {
      "image/png": "[encoded data removed]",
      "text/plain": [
       "<matplotlib.figure.Figure at 0x7f415fefaf50>"
      ]
     },
     "metadata": {},
     "output_type": "display_data"
    }
   ],
   "source": [
    "reviews_df.length.plot(bins=50, kind='hist',title=r\"$\\mathrm{Histogram\\ of\\ Reviews\\ length:\\ bins=50}$\")"
   ]
  },
  {
   "cell_type": "code",
   "execution_count": 10,
   "metadata": {
    "collapsed": false
   },
   "outputs": [
    {
     "data": {
      "text/plain": [
       "count    27320.000000\n",
       "mean       628.336896\n",
       "std        995.436464\n",
       "min          1.000000\n",
       "25%        155.000000\n",
       "50%        304.000000\n",
       "75%        683.250000\n",
       "max      22828.000000\n",
       "Name: length, dtype: float64"
      ]
     },
     "execution_count": 10,
     "metadata": {},
     "output_type": "execute_result"
    }
   ],
   "source": [
    "reviews_df.length.describe()"
   ]
  },
  {
   "cell_type": "markdown",
   "metadata": {},
   "source": [
    "### Ιστογράμματα ανά κατηγορία"
   ]
  },
  {
   "cell_type": "code",
   "execution_count": 136,
   "metadata": {
    "collapsed": false,
    "scrolled": false
   },
   "outputs": [
    {
     "data": {
      "text/plain": [
       "array([[<matplotlib.axes._subplots.AxesSubplot object at 0x7f4137856050>,\n",
       "        <matplotlib.axes._subplots.AxesSubplot object at 0x7f4136246bd0>],\n",
       "       [<matplotlib.axes._subplots.AxesSubplot object at 0x7f41362310d0>,\n",
       "        <matplotlib.axes._subplots.AxesSubplot object at 0x7f4136190390>],\n",
       "       [<matplotlib.axes._subplots.AxesSubplot object at 0x7f413610d810>,\n",
       "        <matplotlib.axes._subplots.AxesSubplot object at 0x7f41361bd3d0>]], dtype=object)"
      ]
     },
     "execution_count": 136,
     "metadata": {},
     "output_type": "execute_result"
    },
    {
     "data": {
      "image/png": "[encoded data removed]",
      "text/plain": [
       "<matplotlib.figure.Figure at 0x7f41363b56d0>"
      ]
     },
     "metadata": {},
     "output_type": "display_data"
    }
   ],
   "source": [
    "reviews_df.hist(column='length', by='real_category', bins=50,figsize=(9, 8))"
   ]
  },
  {
   "cell_type": "code",
   "execution_count": 12,
   "metadata": {
    "collapsed": false
   },
   "outputs": [],
   "source": [
    "# convert label to a numerical variable\n",
    "d = {'mobilephone':0, 'cameras':1, 'video_surveillance':2, 'TVs':3, 'tablets':4 , 'laptops':5}\n",
    "reviews_df['real_category_num'] = reviews_df.real_category.map(d)"
   ]
  },
  {
   "cell_type": "markdown",
   "metadata": {},
   "source": [
    "### Προσθήκη στήλης με ακέραιο αριθμό που αντιστοιχεί στην κατηγορία\n",
    "```\n",
    "{\n",
    "    'mobilephone':0, \n",
    "    'cameras':1, \n",
    "    'video_surveillance':2, \n",
    "    'TVs':3, \n",
    "    'tablets':4 , \n",
    "    'laptops':5\n",
    "}\n",
    "```"
   ]
  },
  {
   "cell_type": "code",
   "execution_count": 13,
   "metadata": {
    "collapsed": false,
    "scrolled": false
   },
   "outputs": [
    {
     "data": {
      "text/html": [
       "<div>\n",
       "<table border=\"1\" class=\"dataframe\">\n",
       "  <thead>\n",
       "    <tr style=\"text-align: right;\">\n",
       "      <th></th>\n",
       "      <th>raw_review</th>\n",
       "      <th>real_category</th>\n",
       "      <th>length</th>\n",
       "      <th>real_category_num</th>\n",
       "    </tr>\n",
       "  </thead>\n",
       "  <tbody>\n",
       "    <tr>\n",
       "      <th>0</th>\n",
       "      <td>I love this phone so much!  I had this phone f...</td>\n",
       "      <td>mobilephone</td>\n",
       "      <td>1081</td>\n",
       "      <td>0</td>\n",
       "    </tr>\n",
       "    <tr>\n",
       "      <th>1</th>\n",
       "      <td>This phone often just freezes or turns itself ...</td>\n",
       "      <td>mobilephone</td>\n",
       "      <td>281</td>\n",
       "      <td>0</td>\n",
       "    </tr>\n",
       "    <tr>\n",
       "      <th>2</th>\n",
       "      <td>What I would have like to know before I purcha...</td>\n",
       "      <td>mobilephone</td>\n",
       "      <td>936</td>\n",
       "      <td>0</td>\n",
       "    </tr>\n",
       "    <tr>\n",
       "      <th>3</th>\n",
       "      <td>I bought two of these phones for my kids.  Bot...</td>\n",
       "      <td>mobilephone</td>\n",
       "      <td>126</td>\n",
       "      <td>0</td>\n",
       "    </tr>\n",
       "    <tr>\n",
       "      <th>4</th>\n",
       "      <td>Liked the phone, but after a while I started h...</td>\n",
       "      <td>mobilephone</td>\n",
       "      <td>416</td>\n",
       "      <td>0</td>\n",
       "    </tr>\n",
       "  </tbody>\n",
       "</table>\n",
       "</div>"
      ],
      "text/plain": [
       "                                          raw_review real_category  length  \\\n",
       "0  I love this phone so much!  I had this phone f...   mobilephone    1081   \n",
       "1  This phone often just freezes or turns itself ...   mobilephone     281   \n",
       "2  What I would have like to know before I purcha...   mobilephone     936   \n",
       "3  I bought two of these phones for my kids.  Bot...   mobilephone     126   \n",
       "4  Liked the phone, but after a while I started h...   mobilephone     416   \n",
       "\n",
       "   real_category_num  \n",
       "0                  0  \n",
       "1                  0  \n",
       "2                  0  \n",
       "3                  0  \n",
       "4                  0  "
      ]
     },
     "execution_count": 13,
     "metadata": {},
     "output_type": "execute_result"
    }
   ],
   "source": [
    "reviews_df.head()"
   ]
  },
  {
   "cell_type": "code",
   "execution_count": 120,
   "metadata": {
    "collapsed": false
   },
   "outputs": [
    {
     "data": {
      "text/html": [
       "<div>\n",
       "<table border=\"1\" class=\"dataframe\">\n",
       "  <thead>\n",
       "    <tr style=\"text-align: right;\">\n",
       "      <th></th>\n",
       "      <th>raw_review</th>\n",
       "      <th>real_category</th>\n",
       "      <th>length</th>\n",
       "      <th>real_category_num</th>\n",
       "    </tr>\n",
       "  </thead>\n",
       "  <tbody>\n",
       "    <tr>\n",
       "      <th>27315</th>\n",
       "      <td>While the Chromebook is quick, light, portable...</td>\n",
       "      <td>laptops</td>\n",
       "      <td>689</td>\n",
       "      <td>5</td>\n",
       "    </tr>\n",
       "    <tr>\n",
       "      <th>27316</th>\n",
       "      <td>I purchased this for my 11 year old grandson f...</td>\n",
       "      <td>laptops</td>\n",
       "      <td>1125</td>\n",
       "      <td>5</td>\n",
       "    </tr>\n",
       "    <tr>\n",
       "      <th>27317</th>\n",
       "      <td>i did not realize the operating system would n...</td>\n",
       "      <td>laptops</td>\n",
       "      <td>519</td>\n",
       "      <td>5</td>\n",
       "    </tr>\n",
       "    <tr>\n",
       "      <th>27318</th>\n",
       "      <td>This is the worst laptop I've ever seen in my ...</td>\n",
       "      <td>laptops</td>\n",
       "      <td>123</td>\n",
       "      <td>5</td>\n",
       "    </tr>\n",
       "    <tr>\n",
       "      <th>27319</th>\n",
       "      <td>It does not do everything I need it to.  I wil...</td>\n",
       "      <td>laptops</td>\n",
       "      <td>132</td>\n",
       "      <td>5</td>\n",
       "    </tr>\n",
       "  </tbody>\n",
       "</table>\n",
       "</div>"
      ],
      "text/plain": [
       "                                              raw_review real_category  \\\n",
       "27315  While the Chromebook is quick, light, portable...       laptops   \n",
       "27316  I purchased this for my 11 year old grandson f...       laptops   \n",
       "27317  i did not realize the operating system would n...       laptops   \n",
       "27318  This is the worst laptop I've ever seen in my ...       laptops   \n",
       "27319  It does not do everything I need it to.  I wil...       laptops   \n",
       "\n",
       "       length  real_category_num  \n",
       "27315     689                  5  \n",
       "27316    1125                  5  \n",
       "27317     519                  5  \n",
       "27318     123                  5  \n",
       "27319     132                  5  "
      ]
     },
     "execution_count": 120,
     "metadata": {},
     "output_type": "execute_result"
    }
   ],
   "source": [
    "reviews_df.tail()"
   ]
  },
  {
   "cell_type": "code",
   "execution_count": 119,
   "metadata": {
    "collapsed": false
   },
   "outputs": [
    {
     "data": {
      "text/plain": [
       "<matplotlib.axes._subplots.AxesSubplot at 0x7f413c9c1bd0>"
      ]
     },
     "execution_count": 119,
     "metadata": {},
     "output_type": "execute_result"
    },
    {
     "data": {
      "image/png": "[encoded data removed]",
      "text/plain": [
       "<matplotlib.figure.Figure at 0x7f413caf9650>"
      ]
     },
     "metadata": {},
     "output_type": "display_data"
    }
   ],
   "source": [
    "reviews_df.real_category.value_counts().plot(kind='bar', ax=None, figsize=(14,5), use_index=True, title=r\"$\\mathrm{Categories\\ of\\ products}$\" , grid=True, legend=True, style=None, logy=False, label=r\"$\\mathrm{\\#\\ of\\ reviews}$\")"
   ]
  },
  {
   "cell_type": "code",
   "execution_count": 15,
   "metadata": {
    "collapsed": false
   },
   "outputs": [
    {
     "name": "stdout",
     "output_type": "stream",
     "text": [
      "(27320,)\n",
      "(27320,)\n"
     ]
    }
   ],
   "source": [
    "# how to define X and y for use with COUNTVECTORIZER\n",
    "X = reviews_df.raw_review\n",
    "y = reviews_df.real_category_num\n",
    "print(X.shape)\n",
    "print(y.shape)"
   ]
  },
  {
   "cell_type": "code",
   "execution_count": 16,
   "metadata": {
    "collapsed": false
   },
   "outputs": [
    {
     "name": "stdout",
     "output_type": "stream",
     "text": [
      "(21856,)\n",
      "(5464,)\n",
      "(21856,)\n",
      "(5464,)\n"
     ]
    }
   ],
   "source": [
    "# split X and y into training and testing sets\n",
    "X_train, X_test, y_train, y_test = train_test_split(X, y, test_size = 0.2, random_state=0)\n",
    "print(X_train.shape)\n",
    "print(X_test.shape)\n",
    "print(y_train.shape)\n",
    "print(y_test.shape)"
   ]
  },
  {
   "cell_type": "code",
   "execution_count": 17,
   "metadata": {
    "collapsed": true
   },
   "outputs": [],
   "source": [
    "# instantiate CountVectorizer\n",
    "vect = CountVectorizer(max_df=0.7, min_df=2, stop_words='english', ngram_range=(1, 3))"
   ]
  },
  {
   "cell_type": "code",
   "execution_count": 18,
   "metadata": {
    "collapsed": true
   },
   "outputs": [],
   "source": [
    "# learn training data vocabulary, then use it to create a document-term matrix\n",
    "X_train_dtm = vect.fit_transform(X_train)"
   ]
  },
  {
   "cell_type": "code",
   "execution_count": 19,
   "metadata": {
    "collapsed": false
   },
   "outputs": [
    {
     "data": {
      "text/plain": [
       "<21856x334982 sparse matrix of type '<type 'numpy.int64'>'\n",
       "\twith 1951975 stored elements in Compressed Sparse Row format>"
      ]
     },
     "execution_count": 19,
     "metadata": {},
     "output_type": "execute_result"
    }
   ],
   "source": [
    "# examine the document-term matrix\n",
    "X_train_dtm"
   ]
  },
  {
   "cell_type": "code",
   "execution_count": 20,
   "metadata": {
    "collapsed": false
   },
   "outputs": [
    {
     "data": {
      "text/plain": [
       "<5464x334982 sparse matrix of type '<type 'numpy.int64'>'\n",
       "\twith 367097 stored elements in Compressed Sparse Row format>"
      ]
     },
     "execution_count": 20,
     "metadata": {},
     "output_type": "execute_result"
    }
   ],
   "source": [
    "# transform testing data (using fitted vocabulary) into a document-term matrix\n",
    "X_test_dtm = vect.transform(X_test)\n",
    "X_test_dtm"
   ]
  },
  {
   "cell_type": "code",
   "execution_count": 21,
   "metadata": {
    "collapsed": false
   },
   "outputs": [],
   "source": [
    "#NB = Naive Bayes\n",
    "#RF = Random Forest\n",
    "#LR = Logistic Regression\n",
    "#KNN = k-nearest neighbors\n",
    "#SVM = Support vector machine\n",
    "models = {'NB':[],'RF':[],'LR':[],'KNN':[],'SVM':[]}"
   ]
  },
  {
   "cell_type": "markdown",
   "metadata": {},
   "source": [
    "# Naive Bayes model"
   ]
  },
  {
   "cell_type": "code",
   "execution_count": 22,
   "metadata": {
    "collapsed": true
   },
   "outputs": [],
   "source": [
    "# instantiate a Multinomial Naive Bayes model\n",
    "nb = MultinomialNB()"
   ]
  },
  {
   "cell_type": "code",
   "execution_count": 23,
   "metadata": {
    "collapsed": false
   },
   "outputs": [
    {
     "name": "stdout",
     "output_type": "stream",
     "text": [
      "CPU times: user 160 ms, sys: 4 ms, total: 164 ms\n",
      "Wall time: 175 ms\n"
     ]
    },
    {
     "data": {
      "text/plain": [
       "MultinomialNB(alpha=1.0, class_prior=None, fit_prior=True)"
      ]
     },
     "execution_count": 23,
     "metadata": {},
     "output_type": "execute_result"
    }
   ],
   "source": [
    "# train the model using X_train_dtm (timing it with an IPython \"magic command\")\n",
    "%time nb.fit(X_train_dtm, y_train)"
   ]
  },
  {
   "cell_type": "code",
   "execution_count": 24,
   "metadata": {
    "collapsed": true
   },
   "outputs": [],
   "source": [
    "# make class predictions for X_test_dtm\n",
    "y_pred_class = nb.predict(X_test_dtm)"
   ]
  },
  {
   "cell_type": "code",
   "execution_count": 25,
   "metadata": {
    "collapsed": false
   },
   "outputs": [
    {
     "name": "stdout",
     "output_type": "stream",
     "text": [
      "Accuracy: 91.69 %\n"
     ]
    }
   ],
   "source": [
    "# calculate accuracy of class predictions\n",
    "res = metrics.accuracy_score(y_test, y_pred_class)\n",
    "models['NB'].append(res)\n",
    "print(\"Accuracy: %0.2f %%\" % (res * 100))"
   ]
  },
  {
   "cell_type": "code",
   "execution_count": 26,
   "metadata": {
    "collapsed": false,
    "scrolled": true
   },
   "outputs": [
    {
     "data": {
      "text/plain": [
       "array([[852,   3,  20,   3,  48,   5],\n",
       "       [  2, 843,  29,   1,  16,   2],\n",
       "       [  5,   2, 915,   4,  12,   6],\n",
       "       [  4,   1,  56, 803,  39,  11],\n",
       "       [ 19,   1,  29,   3, 827,  19],\n",
       "       [  5,   3,   8,   2,  96, 770]])"
      ]
     },
     "execution_count": 26,
     "metadata": {},
     "output_type": "execute_result"
    }
   ],
   "source": [
    "# print the confusion matrix\n",
    "metrics.confusion_matrix(y_test, y_pred_class)"
   ]
  },
  {
   "cell_type": "code",
   "execution_count": 141,
   "metadata": {
    "collapsed": false
   },
   "outputs": [
    {
     "data": {
      "text/plain": [
       "<matplotlib.text.Text at 0x7f413546b590>"
      ]
     },
     "execution_count": 141,
     "metadata": {},
     "output_type": "execute_result"
    },
    {
     "data": {
      "image/png": "[encoded data removed]",
      "text/plain": [
       "<matplotlib.figure.Figure at 0x7f4136e33810>"
      ]
     },
     "metadata": {},
     "output_type": "display_data"
    }
   ],
   "source": [
    "plt.matshow(metrics.confusion_matrix(y_test, y_pred_class), cmap=plt.cm.binary, interpolation='nearest')\n",
    "plt.title(r\"$\\mathrm{Confusion\\ matrix\\ -\\ MultinomialNB}$\")\n",
    "plt.colorbar()\n",
    "plt.ylabel('expected label')\n",
    "plt.xlabel('predicted label')"
   ]
  },
  {
   "cell_type": "code",
   "execution_count": 28,
   "metadata": {
    "collapsed": false
   },
   "outputs": [
    {
     "name": "stdout",
     "output_type": "stream",
     "text": [
      "             precision    recall  f1-score   support\n",
      "\n",
      "          0       0.96      0.92      0.94       931\n",
      "          1       0.99      0.94      0.97       893\n",
      "          2       0.87      0.97      0.91       944\n",
      "          3       0.98      0.88      0.93       914\n",
      "          4       0.80      0.92      0.85       898\n",
      "          5       0.95      0.87      0.91       884\n",
      "\n",
      "avg / total       0.92      0.92      0.92      5464\n",
      "\n"
     ]
    }
   ],
   "source": [
    "print (classification_report(y_test, y_pred_class))"
   ]
  },
  {
   "cell_type": "code",
   "execution_count": 142,
   "metadata": {
    "collapsed": false
   },
   "outputs": [],
   "source": [
    "pipeline = Pipeline([\n",
    "        # strings to token integer counts\n",
    "    ('bow', CountVectorizer(max_df=0.7, min_df=2, stop_words='english', ngram_range=(1, 3))),  \n",
    "        # integer counts to weighted TF-IDF scores\n",
    "    ('tfidf', TfidfTransformer()),\n",
    "        # train on TF-IDF vectors w/ Naive Bayes classifier\n",
    "    ('classifier', nb),  \n",
    "])"
   ]
  },
  {
   "cell_type": "code",
   "execution_count": 30,
   "metadata": {
    "collapsed": false
   },
   "outputs": [
    {
     "name": "stdout",
     "output_type": "stream",
     "text": [
      "[ 0.88925439  0.93199269  0.93448023  0.90483163  0.91764275  0.92347126\n",
      "  0.93994874  0.89967045  0.86556777  0.81721612]\n"
     ]
    }
   ],
   "source": [
    "scores = cross_val_score(pipeline,  # steps to convert raw messages into models\n",
    "                         X,  # training data\n",
    "                         y,  # training labels\n",
    "                         cv=10,  # split data randomly into 10 parts: 9 for training, 1 for scoring\n",
    "                         scoring='accuracy',  # which scoring metric?\n",
    "                         n_jobs=-1,  # -1 = use all cores = faster\n",
    "                         )\n",
    "print(scores)"
   ]
  },
  {
   "cell_type": "code",
   "execution_count": 31,
   "metadata": {
    "collapsed": false
   },
   "outputs": [
    {
     "name": "stdout",
     "output_type": "stream",
     "text": [
      "Accuracy: 90.24 % (+/- 7.15 %)\n"
     ]
    }
   ],
   "source": [
    "models['NB'].append(scores.mean())\n",
    "print(\"Accuracy: %0.2f %% (+/- %0.2f %%)\" % (scores.mean() * 100, scores.std() * 2 * 100))"
   ]
  },
  {
   "cell_type": "markdown",
   "metadata": {},
   "source": [
    "# Logistic regression model\n"
   ]
  },
  {
   "cell_type": "code",
   "execution_count": 32,
   "metadata": {
    "collapsed": true
   },
   "outputs": [],
   "source": [
    "# import and instantiate a logistic regression model\n",
    "from sklearn.linear_model import LogisticRegression\n",
    "logreg = LogisticRegression()"
   ]
  },
  {
   "cell_type": "code",
   "execution_count": 33,
   "metadata": {
    "collapsed": false
   },
   "outputs": [
    {
     "name": "stdout",
     "output_type": "stream",
     "text": [
      "CPU times: user 50.3 s, sys: 808 ms, total: 51.1 s\n",
      "Wall time: 25.7 s\n"
     ]
    },
    {
     "data": {
      "text/plain": [
       "LogisticRegression(C=1.0, class_weight=None, dual=False, fit_intercept=True,\n",
       "          intercept_scaling=1, max_iter=100, multi_class='ovr', n_jobs=1,\n",
       "          penalty='l2', random_state=None, solver='liblinear', tol=0.0001,\n",
       "          verbose=0, warm_start=False)"
      ]
     },
     "execution_count": 33,
     "metadata": {},
     "output_type": "execute_result"
    }
   ],
   "source": [
    "# train the model using X_train_dtm\n",
    "%time logreg.fit(X_train_dtm, y_train)"
   ]
  },
  {
   "cell_type": "code",
   "execution_count": 34,
   "metadata": {
    "collapsed": true
   },
   "outputs": [],
   "source": [
    "# make class predictions for X_test_dtm\n",
    "y_pred_class = logreg.predict(X_test_dtm)"
   ]
  },
  {
   "cell_type": "code",
   "execution_count": 35,
   "metadata": {
    "collapsed": false
   },
   "outputs": [
    {
     "name": "stdout",
     "output_type": "stream",
     "text": [
      "Accuracy: 93.89 %\n"
     ]
    }
   ],
   "source": [
    "# calculate accuracy\n",
    "res = metrics.accuracy_score(y_test, y_pred_class)\n",
    "models['LR'].append(res)\n",
    "print(\"Accuracy: %0.2f %%\" % (res * 100))"
   ]
  },
  {
   "cell_type": "code",
   "execution_count": 36,
   "metadata": {
    "collapsed": false,
    "scrolled": true
   },
   "outputs": [
    {
     "data": {
      "text/plain": [
       "array([[892,   5,   4,   5,  22,   3],\n",
       "       [  3, 876,   7,   1,   3,   3],\n",
       "       [ 10,   9, 873,  25,  17,  10],\n",
       "       [  2,   2,  19, 873,  11,   7],\n",
       "       [ 15,   8,  15,  15, 802,  43],\n",
       "       [  6,   3,   5,   4,  52, 814]])"
      ]
     },
     "execution_count": 36,
     "metadata": {},
     "output_type": "execute_result"
    }
   ],
   "source": [
    "# print the confusion matrix\n",
    "metrics.confusion_matrix(y_test, y_pred_class)"
   ]
  },
  {
   "cell_type": "code",
   "execution_count": 149,
   "metadata": {
    "collapsed": false,
    "scrolled": true
   },
   "outputs": [
    {
     "data": {
      "text/plain": [
       "<matplotlib.text.Text at 0x7f4134de6690>"
      ]
     },
     "execution_count": 149,
     "metadata": {},
     "output_type": "execute_result"
    },
    {
     "data": {
      "image/png": "[encoded data removed]",
      "text/plain": [
       "<matplotlib.figure.Figure at 0x7f4134ca8b10>"
      ]
     },
     "metadata": {},
     "output_type": "display_data"
    }
   ],
   "source": [
    "plt.matshow(metrics.confusion_matrix(y_test, y_pred_class), cmap=plt.cm.binary, interpolation='nearest')\n",
    "plt.title(r\"$\\mathrm{Confusion\\ matrix\\ -\\ Logistic\\ Regression}$\")\n",
    "plt.colorbar()\n",
    "plt.ylabel('expected label')\n",
    "plt.xlabel('predicted label')"
   ]
  },
  {
   "cell_type": "code",
   "execution_count": 38,
   "metadata": {
    "collapsed": false
   },
   "outputs": [
    {
     "name": "stdout",
     "output_type": "stream",
     "text": [
      "             precision    recall  f1-score   support\n",
      "\n",
      "          0       0.96      0.96      0.96       931\n",
      "          1       0.97      0.98      0.98       893\n",
      "          2       0.95      0.92      0.94       944\n",
      "          3       0.95      0.96      0.95       914\n",
      "          4       0.88      0.89      0.89       898\n",
      "          5       0.93      0.92      0.92       884\n",
      "\n",
      "avg / total       0.94      0.94      0.94      5464\n",
      "\n"
     ]
    }
   ],
   "source": [
    "print (classification_report(y_test, y_pred_class))"
   ]
  },
  {
   "cell_type": "code",
   "execution_count": 39,
   "metadata": {
    "collapsed": false
   },
   "outputs": [],
   "source": [
    "pipeline = Pipeline([\n",
    "    ('bow', CountVectorizer(max_df=0.7, min_df=2, stop_words='english', ngram_range=(1, 3))),  # strings to token integer counts\n",
    "    ('tfidf', TfidfTransformer()),  # integer counts to weighted TF-IDF scores\n",
    "    ('classifier', logreg),  # train on TF-IDF vectors w/ Logistic Regression classifier\n",
    "])"
   ]
  },
  {
   "cell_type": "code",
   "execution_count": 40,
   "metadata": {
    "collapsed": false
   },
   "outputs": [
    {
     "name": "stdout",
     "output_type": "stream",
     "text": [
      "[ 0.93567251  0.94771481  0.94070278  0.92606149  0.95204978  0.94653973\n",
      "  0.95862321  0.92859758  0.89047619  0.84322344]\n"
     ]
    }
   ],
   "source": [
    "scores = cross_val_score(pipeline,  # steps to convert raw messages into models\n",
    "                         X,  # training data\n",
    "                         y,  # training labels\n",
    "                         cv=10,  # split data randomly into 10 parts: 9 for training, 1 for scoring\n",
    "                         scoring='accuracy',  # which scoring metric?\n",
    "                         n_jobs=-1,  # -1 = use all cores = faster\n",
    "                         )\n",
    "print(scores)"
   ]
  },
  {
   "cell_type": "code",
   "execution_count": 41,
   "metadata": {
    "collapsed": false
   },
   "outputs": [
    {
     "name": "stdout",
     "output_type": "stream",
     "text": [
      "Accuracy: 92.70 % (+/- 6.65 %)\n"
     ]
    }
   ],
   "source": [
    "models['LR'].append(scores.mean())\n",
    "print(\"Accuracy: %0.2f %% (+/- %0.2f %%)\" % (scores.mean() * 100, scores.std() * 2 * 100))"
   ]
  },
  {
   "cell_type": "markdown",
   "metadata": {},
   "source": [
    "# Random Forest model"
   ]
  },
  {
   "cell_type": "code",
   "execution_count": 161,
   "metadata": {
    "collapsed": false
   },
   "outputs": [],
   "source": [
    "# 1. instantiate a Random Forest model\n",
    "rf = RandomForestClassifier()\n",
    "# 2. train the model using X_train_dtm\n",
    "rf.fit(X_train_dtm, y_train)\n",
    "# 3. make class predictions for X_test_dtm\n",
    "y_pred_class = rf.predict(X_test_dtm)"
   ]
  },
  {
   "cell_type": "code",
   "execution_count": 162,
   "metadata": {
    "collapsed": false
   },
   "outputs": [
    {
     "name": "stdout",
     "output_type": "stream",
     "text": [
      "Accuracy: 86.84 %\n"
     ]
    }
   ],
   "source": [
    "# calculate accuracy\n",
    "res = metrics.accuracy_score(y_test, y_pred_class)\n",
    "models['RF'].append(res)\n",
    "print(\"Accuracy: %0.2f %%\" % (res * 100))"
   ]
  },
  {
   "cell_type": "code",
   "execution_count": 163,
   "metadata": {
    "collapsed": false
   },
   "outputs": [
    {
     "data": {
      "text/plain": [
       "array([[883,   4,   6,  18,  14,   6],\n",
       "       [  0, 843,  18,   8,  12,  12],\n",
       "       [ 16,  18, 813,  61,  22,  14],\n",
       "       [  5,   6,  34, 843,   9,  17],\n",
       "       [ 46,  16,  44,  55, 681,  56],\n",
       "       [ 21,  10,  28,  46,  97, 682]])"
      ]
     },
     "execution_count": 163,
     "metadata": {},
     "output_type": "execute_result"
    }
   ],
   "source": [
    "# print the confusion matrix\n",
    "metrics.confusion_matrix(y_test, y_pred_class)"
   ]
  },
  {
   "cell_type": "code",
   "execution_count": 164,
   "metadata": {
    "collapsed": false
   },
   "outputs": [
    {
     "data": {
      "text/plain": [
       "<matplotlib.text.Text at 0x7f41347639d0>"
      ]
     },
     "execution_count": 164,
     "metadata": {},
     "output_type": "execute_result"
    },
    {
     "data": {
      "image/png": "[encoded data removed]",
      "text/plain": [
       "<matplotlib.figure.Figure at 0x7f413526da50>"
      ]
     },
     "metadata": {},
     "output_type": "display_data"
    }
   ],
   "source": [
    "plt.matshow(metrics.confusion_matrix(y_test, y_pred_class), cmap=plt.cm.binary, interpolation='nearest')\n",
    "plt.title(r\"$\\mathrm{Confusion\\ matrix\\ -\\ Random\\ Forest}$\")\n",
    "plt.colorbar()\n",
    "plt.ylabel('expected label')\n",
    "plt.xlabel('predicted label')"
   ]
  },
  {
   "cell_type": "code",
   "execution_count": 45,
   "metadata": {
    "collapsed": false
   },
   "outputs": [
    {
     "name": "stdout",
     "output_type": "stream",
     "text": [
      "             precision    recall  f1-score   support\n",
      "\n",
      "          0       0.89      0.93      0.91       931\n",
      "          1       0.94      0.95      0.95       893\n",
      "          2       0.89      0.88      0.88       944\n",
      "          3       0.84      0.94      0.89       914\n",
      "          4       0.82      0.80      0.81       898\n",
      "          5       0.92      0.81      0.86       884\n",
      "\n",
      "avg / total       0.89      0.88      0.88      5464\n",
      "\n"
     ]
    }
   ],
   "source": [
    "print (classification_report(y_test, y_pred_class))"
   ]
  },
  {
   "cell_type": "code",
   "execution_count": 173,
   "metadata": {
    "collapsed": false
   },
   "outputs": [],
   "source": [
    "pipeline = Pipeline([\n",
    "    ('bow', CountVectorizer(max_df=0.7, min_df=2, stop_words='english', ngram_range=(1, 3))),  # strings to token integer counts\n",
    "    ('tfidf', TfidfTransformer()),  # integer counts to weighted TF-IDF scores\n",
    "    ('classifier', rf),  # train on TF-IDF vectors w/ Random Forest classifier\n",
    "])"
   ]
  },
  {
   "cell_type": "code",
   "execution_count": 174,
   "metadata": {
    "collapsed": false
   },
   "outputs": [
    {
     "name": "stdout",
     "output_type": "stream",
     "text": [
      "[ 0.85818713  0.90310786  0.8817716   0.84590044  0.88396779  0.87879897\n",
      "  0.91468327  0.86634932  0.84542125  0.74285714]\n"
     ]
    }
   ],
   "source": [
    "scores = cross_val_score(pipeline,  # steps to convert raw messages into models\n",
    "                         X,  # training data\n",
    "                         y,  # training labels\n",
    "                         cv=10,  # split data randomly into 10 parts: 9 for training, 1 for scoring\n",
    "                         scoring='accuracy',  # which scoring metric?\n",
    "                         n_jobs=-1,  # -1 = use all cores = faster\n",
    "                         )\n",
    "print(scores)"
   ]
  },
  {
   "cell_type": "code",
   "execution_count": 175,
   "metadata": {
    "collapsed": false
   },
   "outputs": [
    {
     "name": "stdout",
     "output_type": "stream",
     "text": [
      "Accuracy: 86.21 % (+/- 9.03 %)\n"
     ]
    }
   ],
   "source": [
    "models['RF'].append(scores.mean())\n",
    "print(\"Accuracy: %0.2f %% (+/- %0.2f %%)\" % (scores.mean() * 100, scores.std() * 2 * 100))"
   ]
  },
  {
   "cell_type": "markdown",
   "metadata": {},
   "source": [
    "# KNN model"
   ]
  },
  {
   "cell_type": "code",
   "execution_count": 49,
   "metadata": {
    "collapsed": true
   },
   "outputs": [],
   "source": [
    "# try K=1 through K=25 and record testing accuracy\n",
    "k_range = list(range(1, 26))\n",
    "knnscores = []\n",
    "for k in k_range:\n",
    "    knn = KNeighborsClassifier(n_neighbors=k)\n",
    "    knn.fit(X_train_dtm, y_train)\n",
    "    y_pred = knn.predict(X_test_dtm)\n",
    "    knnscores.append(metrics.accuracy_score(y_test, y_pred))"
   ]
  },
  {
   "cell_type": "code",
   "execution_count": 185,
   "metadata": {
    "collapsed": false,
    "scrolled": true
   },
   "outputs": [
    {
     "data": {
      "text/plain": [
       "<matplotlib.text.Text at 0x7f4134247d90>"
      ]
     },
     "execution_count": 185,
     "metadata": {},
     "output_type": "execute_result"
    },
    {
     "data": {
      "image/png": "[encoded data removed]",
      "text/plain": [
       "<matplotlib.figure.Figure at 0x7f413429c390>"
      ]
     },
     "metadata": {},
     "output_type": "display_data"
    }
   ],
   "source": [
    "# plot the relationship between K and testing accuracy\n",
    "plt.plot(k_range, knnscores)\n",
    "plt.title(r\"$\\mathrm{Relationship\\ between\\ K\\ and\\ testing\\ accuracy}$\")\n",
    "plt.xlabel(r\"$\\mathrm{Value\\ of\\ K\\ for\\ KNN}$\")\n",
    "plt.ylabel(r\"$\\mathrm{Testing\\ Accuracy}$\")"
   ]
  },
  {
   "cell_type": "code",
   "execution_count": 187,
   "metadata": {
    "collapsed": false
   },
   "outputs": [
    {
     "name": "stdout",
     "output_type": "stream",
     "text": [
      "Accuracy: 56.06 %\n"
     ]
    }
   ],
   "source": [
    "# try K=1, record testing accuracy\n",
    "# 1. instantiate a KNeighborsClassifier model\n",
    "knn = KNeighborsClassifier(n_neighbors=1)\n",
    "# 2. train the model using X_train_dtm\n",
    "knn.fit(X_train_dtm, y_train)\n",
    "# 3. make class predictions for X_test_dtm\n",
    "y_pred_class = knn.predict(X_test_dtm)\n",
    "# 4. Accuracy calculation\n",
    "res = metrics.accuracy_score(y_test, y_pred_class)\n",
    "#models['KNN'].append(res)\n",
    "print(\"Accuracy: %0.2f %%\" % (res * 100))"
   ]
  },
  {
   "cell_type": "code",
   "execution_count": 188,
   "metadata": {
    "collapsed": false,
    "scrolled": true
   },
   "outputs": [
    {
     "data": {
      "text/plain": [
       "array([[647,  46,   1, 212,  23,   2],\n",
       "       [ 13, 692,   3, 122,  59,   4],\n",
       "       [ 28, 107, 250, 440, 101,  18],\n",
       "       [  9,  44,   8, 841,  10,   2],\n",
       "       [ 34,  93,  18, 455, 274,  24],\n",
       "       [ 16,  92,  10, 358,  49, 359]])"
      ]
     },
     "execution_count": 188,
     "metadata": {},
     "output_type": "execute_result"
    }
   ],
   "source": [
    "# print the confusion matrix\n",
    "metrics.confusion_matrix(y_test, y_pred_class)"
   ]
  },
  {
   "cell_type": "code",
   "execution_count": 192,
   "metadata": {
    "collapsed": false
   },
   "outputs": [
    {
     "data": {
      "text/plain": [
       "<matplotlib.text.Text at 0x7f4133c7c1d0>"
      ]
     },
     "execution_count": 192,
     "metadata": {},
     "output_type": "execute_result"
    },
    {
     "data": {
      "image/png": "[encoded data removed]",
      "text/plain": [
       "<matplotlib.figure.Figure at 0x7f4133d488d0>"
      ]
     },
     "metadata": {},
     "output_type": "display_data"
    }
   ],
   "source": [
    "plt.matshow(metrics.confusion_matrix(y_test, y_pred_class), cmap=plt.cm.binary, interpolation='nearest')\n",
    "plt.title(\"$\\mathrm{Confusion\\ matrix\\ -\\ Knn}$\")\n",
    "plt.colorbar()\n",
    "plt.ylabel('expected label')\n",
    "plt.xlabel('predicted label')"
   ]
  },
  {
   "cell_type": "code",
   "execution_count": 54,
   "metadata": {
    "collapsed": false,
    "scrolled": true
   },
   "outputs": [
    {
     "name": "stdout",
     "output_type": "stream",
     "text": [
      "             precision    recall  f1-score   support\n",
      "\n",
      "          0       0.87      0.69      0.77       931\n",
      "          1       0.64      0.77      0.70       893\n",
      "          2       0.86      0.26      0.41       944\n",
      "          3       0.35      0.92      0.50       914\n",
      "          4       0.53      0.31      0.39       898\n",
      "          5       0.88      0.41      0.56       884\n",
      "\n",
      "avg / total       0.69      0.56      0.55      5464\n",
      "\n"
     ]
    }
   ],
   "source": [
    "print (classification_report(y_test, y_pred_class))"
   ]
  },
  {
   "cell_type": "code",
   "execution_count": 55,
   "metadata": {
    "collapsed": true
   },
   "outputs": [],
   "source": [
    "pipeline = Pipeline([\n",
    "    ('bow', CountVectorizer(max_df=0.7, min_df=2, stop_words='english', ngram_range=(1, 3))),  # strings to token integer counts\n",
    "    ('tfidf', TfidfTransformer()),  # integer counts to weighted TF-IDF scores\n",
    "    ('classifier', knn),  # train on TF-IDF vectors w/ Knn classifier\n",
    "])"
   ]
  },
  {
   "cell_type": "code",
   "execution_count": 56,
   "metadata": {
    "collapsed": false
   },
   "outputs": [
    {
     "name": "stdout",
     "output_type": "stream",
     "text": [
      "[ 0.56359649  0.54442413  0.54245974  0.41691069  0.79099561  0.4544123\n",
      "  0.54522153  0.39069938  0.34615385  0.28937729]\n"
     ]
    }
   ],
   "source": [
    "scores = cross_val_score(pipeline,  # steps to convert raw messages into models\n",
    "                         X,  # training data\n",
    "                         y,  # training labels\n",
    "                         cv=10,  # split data randomly into 10 parts: 9 for training, 1 for scoring\n",
    "                         scoring='accuracy',  # which scoring metric?\n",
    "                         n_jobs=-1,  # -1 = use all cores = faster\n",
    "                         )\n",
    "print(scores)"
   ]
  },
  {
   "cell_type": "code",
   "execution_count": 57,
   "metadata": {
    "collapsed": false
   },
   "outputs": [
    {
     "name": "stdout",
     "output_type": "stream",
     "text": [
      "Accuracy: 48.84 % (+/- 26.99 %)\n"
     ]
    }
   ],
   "source": [
    "models['KNN'].append(scores.mean())\n",
    "print(\"Accuracy: %0.2f %% (+/- %0.2f %%)\" % (scores.mean() * 100, scores.std() * 2 * 100))"
   ]
  },
  {
   "cell_type": "markdown",
   "metadata": {},
   "source": [
    "# SVM model"
   ]
  },
  {
   "cell_type": "code",
   "execution_count": 58,
   "metadata": {
    "collapsed": false
   },
   "outputs": [
    {
     "name": "stdout",
     "output_type": "stream",
     "text": [
      "CPU times: user 1min 27s, sys: 632 ms, total: 1min 27s\n",
      "Wall time: 1min 29s\n"
     ]
    },
    {
     "data": {
      "text/plain": [
       "SVC(C=1.0, cache_size=200, class_weight=None, coef0=0.0,\n",
       "  decision_function_shape=None, degree=3, gamma='auto', kernel='linear',\n",
       "  max_iter=-1, probability=False, random_state=None, shrinking=True,\n",
       "  tol=0.001, verbose=False)"
      ]
     },
     "execution_count": 58,
     "metadata": {},
     "output_type": "execute_result"
    }
   ],
   "source": [
    "from sklearn import svm\n",
    "svm_clf = svm.SVC(kernel='linear')\n",
    "# train the model using X_train_dtm\n",
    "%time svm_clf.fit(X_train_dtm, y_train)"
   ]
  },
  {
   "cell_type": "code",
   "execution_count": 193,
   "metadata": {
    "collapsed": true
   },
   "outputs": [],
   "source": [
    "# make class predictions for X_test_dtm\n",
    "y_pred_class = svm_clf.predict(X_test_dtm)"
   ]
  },
  {
   "cell_type": "code",
   "execution_count": 194,
   "metadata": {
    "collapsed": false
   },
   "outputs": [
    {
     "name": "stdout",
     "output_type": "stream",
     "text": [
      "Accuracy: 92.75 %\n"
     ]
    }
   ],
   "source": [
    "# calculate accuracy\n",
    "res = metrics.accuracy_score(y_test, y_pred_class)\n",
    "models['SVM'].append(res)\n",
    "print(\"Accuracy: %0.2f %%\" % (res * 100))"
   ]
  },
  {
   "cell_type": "code",
   "execution_count": 195,
   "metadata": {
    "collapsed": false
   },
   "outputs": [
    {
     "data": {
      "text/plain": [
       "array([[885,   1,   6,  11,  27,   1],\n",
       "       [  2, 872,   9,   3,   5,   2],\n",
       "       [ 13,  16, 865,  20,  21,   9],\n",
       "       [  6,   1,  22, 858,  17,  10],\n",
       "       [ 21,   7,  21,  16, 788,  45],\n",
       "       [ 12,   4,   6,  10,  52, 800]])"
      ]
     },
     "execution_count": 195,
     "metadata": {},
     "output_type": "execute_result"
    }
   ],
   "source": [
    "# print the confusion matrix\n",
    "metrics.confusion_matrix(y_test, y_pred_class)"
   ]
  },
  {
   "cell_type": "code",
   "execution_count": 196,
   "metadata": {
    "collapsed": false
   },
   "outputs": [
    {
     "data": {
      "text/plain": [
       "<matplotlib.text.Text at 0x7f4133b1d490>"
      ]
     },
     "execution_count": 196,
     "metadata": {},
     "output_type": "execute_result"
    },
    {
     "data": {
      "image/png": "[encoded data removed]",
      "text/plain": [
       "<matplotlib.figure.Figure at 0x7f41342e5150>"
      ]
     },
     "metadata": {},
     "output_type": "display_data"
    }
   ],
   "source": [
    "plt.matshow(metrics.confusion_matrix(y_test, y_pred_class), cmap=plt.cm.binary, interpolation='nearest')\n",
    "plt.title(\"$\\mathrm{Confusion\\ matrix\\ -\\ SVM}$\")\n",
    "plt.colorbar()\n",
    "plt.ylabel('expected label')\n",
    "plt.xlabel('predicted label')"
   ]
  },
  {
   "cell_type": "code",
   "execution_count": 63,
   "metadata": {
    "collapsed": false
   },
   "outputs": [
    {
     "name": "stdout",
     "output_type": "stream",
     "text": [
      "             precision    recall  f1-score   support\n",
      "\n",
      "          0       0.94      0.95      0.95       931\n",
      "          1       0.97      0.98      0.97       893\n",
      "          2       0.93      0.92      0.92       944\n",
      "          3       0.93      0.94      0.94       914\n",
      "          4       0.87      0.88      0.87       898\n",
      "          5       0.92      0.90      0.91       884\n",
      "\n",
      "avg / total       0.93      0.93      0.93      5464\n",
      "\n"
     ]
    }
   ],
   "source": [
    "print (classification_report(y_test, y_pred_class))"
   ]
  },
  {
   "cell_type": "code",
   "execution_count": 64,
   "metadata": {
    "collapsed": true
   },
   "outputs": [],
   "source": [
    "pipeline = Pipeline([\n",
    "    ('bow', CountVectorizer(max_df=0.7, min_df=2, stop_words='english', ngram_range=(1, 3))),  # strings to token integer counts\n",
    "    ('tfidf', TfidfTransformer()),  # integer counts to weighted TF-IDF scores\n",
    "    ('classifier', svm_clf),  # train on TF-IDF vectors w/ SVM classifier\n",
    "])"
   ]
  },
  {
   "cell_type": "code",
   "execution_count": 65,
   "metadata": {
    "collapsed": false
   },
   "outputs": [
    {
     "name": "stdout",
     "output_type": "stream",
     "text": [
      "[ 0.94152047  0.95648995  0.94948755  0.93850659  0.95095168  0.94617356\n",
      "  0.96594654  0.93299158  0.8996337   0.86007326]\n"
     ]
    }
   ],
   "source": [
    "scores = cross_val_score(pipeline,  # steps to convert raw messages into models\n",
    "                         X,  # training data\n",
    "                         y,  # training labels\n",
    "                         cv=10,  # split data randomly into 10 parts: 9 for training, 1 for scoring\n",
    "                         scoring='accuracy',  # which scoring metric?\n",
    "                         n_jobs=-1,  # -1 = use all cores = faster\n",
    "                         )\n",
    "print(scores)"
   ]
  },
  {
   "cell_type": "code",
   "execution_count": 66,
   "metadata": {
    "collapsed": false
   },
   "outputs": [
    {
     "name": "stdout",
     "output_type": "stream",
     "text": [
      "Accuracy: 93.42 % (+/- 5.98 %)\n"
     ]
    }
   ],
   "source": [
    "models['SVM'].append(scores.mean())\n",
    "print(\"Accuracy: %0.2f %% (+/- %0.2f %%)\" % (scores.mean() * 100, scores.std() * 2 * 100))"
   ]
  },
  {
   "cell_type": "code",
   "execution_count": 67,
   "metadata": {
    "collapsed": false
   },
   "outputs": [],
   "source": [
    "modelsTT = {}\n",
    "for i in models.keys():\n",
    "    modelsTT[i] = models[i][0]\n",
    "    \n",
    "modelsCV = {}\n",
    "for i in models.keys():\n",
    "    modelsCV[i] = models[i][1]"
   ]
  },
  {
   "cell_type": "code",
   "execution_count": 68,
   "metadata": {
    "collapsed": false,
    "scrolled": true
   },
   "outputs": [
    {
     "data": {
      "image/png": "[encoded data removed]",
      "text/plain": [
       "<matplotlib.figure.Figure at 0x7f4163a45490>"
      ]
     },
     "metadata": {},
     "output_type": "display_data"
    }
   ],
   "source": [
    "plt.title('Train/Test Accuracy')\n",
    "plt.bar(range(len(modelsTT)), modelsTT.values(), align='center')\n",
    "plt.xticks(range(len(modelsTT)), modelsTT.keys())\n",
    "\n",
    "plt.show()"
   ]
  },
  {
   "cell_type": "code",
   "execution_count": 69,
   "metadata": {
    "collapsed": false,
    "scrolled": false
   },
   "outputs": [
    {
     "data": {
      "image/png": "[encoded data removed]",
      "text/plain": [
       "<matplotlib.figure.Figure at 0x7f41637b1590>"
      ]
     },
     "metadata": {},
     "output_type": "display_data"
    }
   ],
   "source": [
    "plt.title('10-Fold Cross Validation Accuracy')\n",
    "plt.bar(range(len(modelsCV)), modelsCV.values(), align='center')\n",
    "plt.xticks(range(len(modelsCV)), modelsCV.keys())\n",
    "plt.show()"
   ]
  },
  {
   "cell_type": "markdown",
   "metadata": {},
   "source": [
    "## Train/Test vs 10-Fold Cross Validation Accuracy"
   ]
  },
  {
   "cell_type": "markdown",
   "metadata": {
    "collapsed": false
   },
   "source": [
    "![alt text](http://i.imgur.com/0RDXuk4.png \"Train/Test vs 10-Fold Cross Validation Accuracy\")"
   ]
  }
 ],
 "metadata": {
  "anaconda-cloud": {},
  "celltoolbar": "Raw Cell Format",
  "kernelspec": {
   "display_name": "Python [default]",
   "language": "python",
   "name": "python2"
  },
  "language_info": {
   "codemirror_mode": {
    "name": "ipython",
    "version": 2
   },
   "file_extension": ".py",
   "mimetype": "text/x-python",
   "name": "python",
   "nbconvert_exporter": "python",
   "pygments_lexer": "ipython2",
   "version": "2.7.12"
  }
 },
 "nbformat": 4,
 "nbformat_minor": 1
}
